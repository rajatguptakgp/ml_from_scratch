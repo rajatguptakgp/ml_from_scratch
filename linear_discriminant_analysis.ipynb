{
 "cells": [
  {
   "cell_type": "code",
   "execution_count": 1,
   "metadata": {},
   "outputs": [],
   "source": [
    "import numpy as np\n",
    "import pandas as pd\n",
    "import matplotlib.pyplot as plt\n",
    "from scipy.optimize import minimize, Bounds\n",
    "from sklearn.datasets import load_iris\n",
    "from sklearn.discriminant_analysis import LinearDiscriminantAnalysis\n",
    "from sklearn.decomposition import PCA"
   ]
  },
  {
   "cell_type": "markdown",
   "metadata": {},
   "source": [
    "### 1. Linear Discriminant Analysis using optimization\n",
    "\n",
    "Consider a case with two classes. We need to maximize:\n",
    "\n",
    "\\begin{equation}\n",
    "\\mathrm{J}(\\mathrm{u})=\\frac{\\mathrm{u}^{\\mathrm{T}} \\mathrm{S}_{\\mathrm{B}} \\mathrm{u}}{\\mathrm{u}^{\\mathrm{T}} \\mathrm{S}_{\\mathrm{W}} \\mathrm{u}}\n",
    "\\end{equation}\n",
    "\n",
    "where: \n",
    "\n",
    "Between class variance is given by:\n",
    "\\begin{equation}\n",
    "\\mathrm{S}_{\\mathrm{B}}=\\left(\\mathrm{m}_{1}-\\mathrm{m}_{2}\\right)\\left(\\mathrm{m}_{1}-\\mathrm{m}_{2}\\right)^{\\mathrm{T}}\n",
    "\\end{equation}\n",
    "\n",
    "Within class variance is given by:\n",
    "\\begin{equation}\n",
    "s_{1}^{2}+s_{2}^{2}=u^{T} S_{w} u\n",
    "\\end{equation}\n",
    "\n",
    "\\begin{equation}\n",
    "s_{i}^{2}=\\sum_{y \\in Wi}\\left(y-m_{i}\\right)^{2}\n",
    "\\end{equation}"
   ]
  },
  {
   "cell_type": "code",
   "execution_count": 2,
   "metadata": {},
   "outputs": [
    {
     "data": {
      "text/html": [
       "<div>\n",
       "<style scoped>\n",
       "    .dataframe tbody tr th:only-of-type {\n",
       "        vertical-align: middle;\n",
       "    }\n",
       "\n",
       "    .dataframe tbody tr th {\n",
       "        vertical-align: top;\n",
       "    }\n",
       "\n",
       "    .dataframe thead th {\n",
       "        text-align: right;\n",
       "    }\n",
       "</style>\n",
       "<table border=\"1\" class=\"dataframe\">\n",
       "  <thead>\n",
       "    <tr style=\"text-align: right;\">\n",
       "      <th></th>\n",
       "      <th>sepal length (cm)</th>\n",
       "      <th>sepal width (cm)</th>\n",
       "      <th>petal length (cm)</th>\n",
       "      <th>petal width (cm)</th>\n",
       "      <th>target</th>\n",
       "    </tr>\n",
       "  </thead>\n",
       "  <tbody>\n",
       "    <tr>\n",
       "      <th>0</th>\n",
       "      <td>5.1</td>\n",
       "      <td>3.5</td>\n",
       "      <td>1.4</td>\n",
       "      <td>0.2</td>\n",
       "      <td>0</td>\n",
       "    </tr>\n",
       "    <tr>\n",
       "      <th>1</th>\n",
       "      <td>4.9</td>\n",
       "      <td>3.0</td>\n",
       "      <td>1.4</td>\n",
       "      <td>0.2</td>\n",
       "      <td>0</td>\n",
       "    </tr>\n",
       "  </tbody>\n",
       "</table>\n",
       "</div>"
      ],
      "text/plain": [
       "   sepal length (cm)  sepal width (cm)  petal length (cm)  petal width (cm)  \\\n",
       "0                5.1               3.5                1.4               0.2   \n",
       "1                4.9               3.0                1.4               0.2   \n",
       "\n",
       "   target  \n",
       "0       0  \n",
       "1       0  "
      ]
     },
     "execution_count": 2,
     "metadata": {},
     "output_type": "execute_result"
    }
   ],
   "source": [
    "dataset = load_iris()\n",
    "df = pd.DataFrame(dataset['data'], columns=dataset['feature_names'])\n",
    "df['target'] = dataset['target']\n",
    "df.head(2)"
   ]
  },
  {
   "cell_type": "code",
   "execution_count": 3,
   "metadata": {},
   "outputs": [],
   "source": [
    "n_features = len(dataset['feature_names'])\n",
    "\n",
    "# considering only two classes from dataset\n",
    "df = df[(df['target']==0) | (df['target']==1)].reset_index(drop=True)\n",
    "data1 = df[df['target']==0][dataset['feature_names']].values\n",
    "data2 = df[df['target']==1][dataset['feature_names']].values"
   ]
  },
  {
   "cell_type": "code",
   "execution_count": 4,
   "metadata": {},
   "outputs": [],
   "source": [
    "def func(w, Sb, Sw):\n",
    "    return (w.T @ Sb @ w) / (w.T @ Sw @ w)\n",
    "\n",
    "def get_LDA_variables(data1, data2):\n",
    "    # within class variance\n",
    "    Sw = np.cov(data1.T) + np.cov(data2.T)\n",
    "\n",
    "    # between class variance\n",
    "    m1 = np.mean(data1, axis=0).reshape(-1, 1)\n",
    "    m2 = np.mean(data2, axis=0).reshape(-1, 1)\n",
    "    Sb = (m1 - m2) @ (m1 - m2).T\n",
    "\n",
    "    assert Sb.shape == (n_features, n_features)\n",
    "    assert Sw.shape == (n_features, n_features)\n",
    "    return Sb, Sw, m1, m2    \n",
    "\n",
    "def get_LDA(data1, data2):\n",
    "    Sb, Sw, m1, m2 = get_LDA_variables(data1, data2)\n",
    "    \n",
    "    optim_func = lambda w: - func(w, Sb, Sw)\n",
    "    consts = ({'type':'eq', 'fun': lambda w: w.T @ w - 1})\n",
    "\n",
    "    w0 = np.random.random(size=(n_features,))\n",
    "    sol = minimize(optim_func, w0, constraints=consts)\n",
    "    return sol    "
   ]
  },
  {
   "cell_type": "code",
   "execution_count": 5,
   "metadata": {},
   "outputs": [
    {
     "data": {
      "text/plain": [
       "     fun: -51.616770917169795\n",
       "     jac: array([ 0.00293779, -0.00164366,  0.00150061, -0.00172901])\n",
       " message: 'Optimization terminated successfully'\n",
       "    nfev: 89\n",
       "     nit: 15\n",
       "    njev: 15\n",
       "  status: 0\n",
       " success: True\n",
       "       x: array([-0.07278246, -0.42969466,  0.51893816,  0.73536957])"
      ]
     },
     "execution_count": 5,
     "metadata": {},
     "output_type": "execute_result"
    }
   ],
   "source": [
    "sol = get_LDA(data1, data2)\n",
    "sol"
   ]
  },
  {
   "cell_type": "code",
   "execution_count": 6,
   "metadata": {},
   "outputs": [
    {
     "data": {
      "image/png": "[encoded data removed]",
      "text/plain": [
       "<Figure size 432x288 with 1 Axes>"
      ]
     },
     "metadata": {
      "needs_background": "light"
     },
     "output_type": "display_data"
    }
   ],
   "source": [
    "X = np.append(data1 @ sol.x, data2 @ sol.x)\n",
    "y = np.array([0] * len(data1) + [1] * len(data2))\n",
    "\n",
    "df1 = pd.DataFrame(np.vstack((X, y)).transpose(), columns=['X', 'y'])\n",
    "df1 = df1.sample(frac = 1).reset_index(drop=True)\n",
    "plt.scatter(df1['X'], df1['y'], c=df1['y'])\n",
    "plt.show()"
   ]
  },
  {
   "cell_type": "code",
   "execution_count": 7,
   "metadata": {},
   "outputs": [
    {
     "data": {
      "text/plain": [
       "(array([-0.07278246, -0.42969466,  0.51893816,  0.73536957]),\n",
       " array([-0.07278252, -0.4296938 ,  0.51893802,  0.73537016]))"
      ]
     },
     "execution_count": 7,
     "metadata": {},
     "output_type": "execute_result"
    }
   ],
   "source": [
    "# getting linear component using Sklearn library\n",
    "clf = LinearDiscriminantAnalysis()\n",
    "X = df[dataset['feature_names']]\n",
    "y = df['target']\n",
    "\n",
    "clf.fit(X, y)\n",
    "result = np.squeeze(clf.coef_ / np.linalg.norm(clf.coef_))\n",
    "sol.x, result"
   ]
  },
  {
   "cell_type": "markdown",
   "metadata": {},
   "source": [
    "Linear Component from optimization and through Sklearn library is similar."
   ]
  },
  {
   "cell_type": "markdown",
   "metadata": {},
   "source": [
    "#### Direct solution to the optimization problem:\n",
    "\n",
    "Solving the above optimization results into an eigenvalue problem whose solution is given by:\n",
    "\n",
    "\\begin{equation}\n",
    "\\mathrm{u}=\\mathrm{S}_{\\mathrm{W}}^{-1}\\left(\\mathrm{~m}_{1}-\\mathrm{m}_{2}\\right)\n",
    "\\end{equation}"
   ]
  },
  {
   "cell_type": "code",
   "execution_count": 8,
   "metadata": {},
   "outputs": [
    {
     "data": {
      "text/plain": [
       "array([ 0.07278252,  0.4296938 , -0.51893802, -0.73537016])"
      ]
     },
     "execution_count": 8,
     "metadata": {},
     "output_type": "execute_result"
    }
   ],
   "source": [
    "Sb, Sw, m1, m2 = get_LDA_variables(data1, data2)\n",
    "\n",
    "z = np.linalg.inv(Sw) @ (m1 - m2)\n",
    "z = z / np.linalg.norm(z)\n",
    "z = np.squeeze(z)\n",
    "z"
   ]
  },
  {
   "cell_type": "markdown",
   "metadata": {},
   "source": [
    "### 2. Comparing LDA with Principal Component Analysis (PCA)\n",
    "\n",
    "PCA aims to maximize variance in data while LDA aims to maximize separability between classes. Let's compare PCA components with LDA components. "
   ]
  },
  {
   "cell_type": "code",
   "execution_count": 9,
   "metadata": {},
   "outputs": [
    {
     "data": {
      "image/png": "[encoded data removed]",
      "text/plain": [
       "<Figure size 432x288 with 1 Axes>"
      ]
     },
     "metadata": {
      "needs_background": "light"
     },
     "output_type": "display_data"
    }
   ],
   "source": [
    "# PCA\n",
    "data = np.vstack((data1, data2))\n",
    "y = np.array([0] * len(data1) + [1] * len(data2))\n",
    "pca = PCA(n_components=1)\n",
    "X = pca.fit_transform(data).ravel()\n",
    "\n",
    "df1 = pd.DataFrame(np.vstack((X, y)).transpose(), columns=['X', 'y'])\n",
    "df1 = df1.sample(frac = 1).reset_index(drop=True)\n",
    "plt.scatter(df1['X'], df1['y'], c=df1['y'])\n",
    "plt.show()"
   ]
  },
  {
   "cell_type": "code",
   "execution_count": 10,
   "metadata": {},
   "outputs": [
    {
     "data": {
      "text/plain": [
       "42.73299751120726"
      ]
     },
     "execution_count": 10,
     "metadata": {},
     "output_type": "execute_result"
    }
   ],
   "source": [
    "def get_cosine_sim(v1, v2):\n",
    "    return v1 @ v2 / (np.linalg.norm(v1) * np.linalg.norm(v2))\n",
    "\n",
    "v1 = sol.x\n",
    "v2 = pca.components_.ravel()\n",
    "get_cosine_sim(v1, v2) * 180 / np.pi"
   ]
  },
  {
   "cell_type": "markdown",
   "metadata": {},
   "source": [
    "We can notice that there is some difference in directions between PCA and LDA components. However, in terms of results from above figures, there doesn't seem to be much noticeable difference. "
   ]
  },
  {
   "cell_type": "markdown",
   "metadata": {},
   "source": [
    "### Additional Notes:\n",
    "\n",
    "1. Discriminant Analysis for more than 2 classes is called Multiple Discriminant Analysis (MDA).\n",
    "2. Discriminant Analysis reduces dimension from K to K-1, unlike PCA which can reduce dimensions >= 1.\n",
    "3. Linear Discriminant Analysis fails when the mean vector of two classes is same (for example, two classes in concentric circles/hyperspheres):\n",
    "    1. In that case, the optimizing function is equal to zero. \n",
    "    2. However, PCA (Linear PCA/Non-Linear PCA) can work well.\n",
    "4. There can be cases where both LDA and PCA fail (for example - Diagonal points of square belonging to two different classes):\n",
    "    1. Here, mean vector is same, so LDA fails.\n",
    "    2. Here, maximum variance is equal along both diagonals, so PCA fails.\n",
    "    3. Typically happens when there is large overlap between classes."
   ]
  },
  {
   "cell_type": "code",
   "execution_count": null,
   "metadata": {},
   "outputs": [],
   "source": []
  }
 ],
 "metadata": {
  "interpreter": {
   "hash": "951daa5e1959839fcb325fff331f52e72634f7a1be998f6081ed7f433b63f1b3"
  },
  "kernelspec": {
   "display_name": "Python 3.8.11 ('base')",
   "language": "python",
   "name": "python3"
  },
  "language_info": {
   "codemirror_mode": {
    "name": "ipython",
    "version": 3
   },
   "file_extension": ".py",
   "mimetype": "text/x-python",
   "name": "python",
   "nbconvert_exporter": "python",
   "pygments_lexer": "ipython3",
   "version": "3.8.11"
  },
  "orig_nbformat": 4
 },
 "nbformat": 4,
 "nbformat_minor": 2
}
