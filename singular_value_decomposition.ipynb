{
 "cells": [
  {
   "cell_type": "code",
   "execution_count": 1,
   "metadata": {},
   "outputs": [],
   "source": [
    "import numpy as np\n",
    "import pandas as pd\n",
    "import matplotlib.pyplot as plt\n",
    "\n",
    "from sklearn.preprocessing import StandardScaler\n",
    "from sklearn.datasets import load_digits\n",
    "from sklearn.linear_model import LinearRegression"
   ]
  },
  {
   "cell_type": "markdown",
   "metadata": {},
   "source": [
    "### Singular Value Decomposition\n",
    "\n",
    "A more **general form of eigendecomposition** that generalizes decomposition from a square matrix to any $m \\times n$ matrix via an extension of **polar decomposition**. \n",
    "\n",
    "If $A$ is an $m \\times n$ matrix with rank $r,$ then there exists a factorization of $A$ as\n",
    "\n",
    "\\begin{equation}\n",
    "A=U \\Sigma V^{T}\n",
    "\\end{equation}\n",
    "\n",
    "where $U(m \\times m)$ and $V(n \\times n)$ are orthogonal matrices, and $\\sum(m \\times n)$ is a matrix with only non-zero diagonal elements.\n",
    "\n",
    "$\\Sigma=\\left(\\sigma_{i j}\\right)$, where $\\sigma_{i i}=\\sigma_{i}$, for $i=1, \\ldots, r$ are the singular values of $A$ such that $\\sigma_{1} \\geq \\sigma_{2} \\geq \\ldots \\geq \\sigma_{r} \\geq 0$, and all non-diagonal entries of $\\sum$ are zero. \n",
    "\n",
    "The singular vector corresponding to the largest singular value represents **the 1-D subspace that retains the most information**, then the second largest and so on.."
   ]
  },
  {
   "cell_type": "markdown",
   "metadata": {},
   "source": [
    "**Calculation of singular vectors and singular values**:\n",
    "\n",
    "$C=A A^{T}$\n",
    "$=\\left(U \\Sigma V^{T}\\right)\\left(U \\Sigma V^{T}\\right)^{T}$\n",
    "$=U \\Sigma V^{T} V \\Sigma^{T} U^{T}$\n",
    "$=U \\Sigma^{2} U^{T}$\n",
    "\n",
    "Since $C$ is symmetric which means it is diagonalizable. Also, we know that $U$ and $V$ are orthogonal matrices. \n",
    "\n",
    "Hence, $C$ can be represented as:\n",
    "\n",
    "$C= U \\Sigma^{2} U^{-1}$\n",
    "\n",
    "- This implies that eigenvectors of $C$ are left-singular vectors $U$ of $A$. \n",
    "- Likewise, eigenvectors of $A^{T}A$ are right-singular vectors $V$ of $A$. \n",
    "- And, square root of eigenvalues of $C$ are singular values of $A$"
   ]
  },
  {
   "cell_type": "code",
   "execution_count": 2,
   "metadata": {},
   "outputs": [
    {
     "data": {
      "text/plain": [
       "(5, 5)"
      ]
     },
     "execution_count": 2,
     "metadata": {},
     "output_type": "execute_result"
    }
   ],
   "source": [
    "X=np.random.normal(0,1,25).reshape(5,-1)\n",
    "\n",
    "#symmetric matrix\n",
    "X = (X + np.transpose(X)) / 2\n",
    "X.shape"
   ]
  },
  {
   "cell_type": "code",
   "execution_count": 3,
   "metadata": {},
   "outputs": [
    {
     "data": {
      "text/plain": [
       "((5, 5), (5, 5), (5, 5))"
      ]
     },
     "execution_count": 3,
     "metadata": {},
     "output_type": "execute_result"
    }
   ],
   "source": [
    "U = np.linalg.svd(X)[0]\n",
    "\n",
    "S = np.diag(np.linalg.svd(X)[1])\n",
    "\n",
    "VT = np.linalg.svd(X)[2]\n",
    "\n",
    "U.shape, S.shape, VT.shape"
   ]
  },
  {
   "cell_type": "code",
   "execution_count": 4,
   "metadata": {},
   "outputs": [
    {
     "data": {
      "text/plain": [
       "array([[2.45202372, 0.        , 0.        , 0.        , 0.        ],\n",
       "       [0.        , 1.44188024, 0.        , 0.        , 0.        ],\n",
       "       [0.        , 0.        , 1.17519512, 0.        , 0.        ],\n",
       "       [0.        , 0.        , 0.        , 0.66631124, 0.        ],\n",
       "       [0.        , 0.        , 0.        , 0.        , 0.33384111]])"
      ]
     },
     "execution_count": 4,
     "metadata": {},
     "output_type": "execute_result"
    }
   ],
   "source": [
    "S"
   ]
  },
  {
   "cell_type": "code",
   "execution_count": 5,
   "metadata": {},
   "outputs": [],
   "source": [
    "C = X@np.transpose(X)\n",
    "\n",
    "eigvalue = np.linalg.eig(C)[0]\n",
    "eigvector = np.linalg.eig(C)[1]\n",
    "\n",
    "eigvalue_vector_map = dict(zip(eigvalue, eigvector))\n",
    "\n",
    "#sorted in eigenvalues\n",
    "eigvalue_vector_map = {k: eigvalue_vector_map[k] for k in np.sort(eigvalue)}"
   ]
  },
  {
   "cell_type": "code",
   "execution_count": 6,
   "metadata": {},
   "outputs": [
    {
     "data": {
      "text/plain": [
       "array([[2.45202372, 0.        , 0.        , 0.        , 0.        ],\n",
       "       [0.        , 1.44188024, 0.        , 0.        , 0.        ],\n",
       "       [0.        , 0.        , 1.17519512, 0.        , 0.        ],\n",
       "       [0.        , 0.        , 0.        , 0.66631124, 0.        ],\n",
       "       [0.        , 0.        , 0.        , 0.        , 0.33384111]])"
      ]
     },
     "execution_count": 6,
     "metadata": {},
     "output_type": "execute_result"
    }
   ],
   "source": [
    "np.diag(np.sort(np.sqrt(eigvalue))[::-1])"
   ]
  },
  {
   "cell_type": "code",
   "execution_count": 7,
   "metadata": {},
   "outputs": [
    {
     "data": {
      "text/plain": [
       "array([[-0.82391094, -0.31558874,  0.39671631, -0.25250596, -0.02077056],\n",
       "       [ 0.27556414, -0.82249527, -0.06294942, -0.01066225,  0.49344668],\n",
       "       [-0.07676445,  0.20590547, -0.48247752, -0.79018774,  0.30745559],\n",
       "       [ 0.26967162,  0.33441897,  0.72994658, -0.19183933,  0.49579919],\n",
       "       [-0.40819065,  0.26395486, -0.27027203,  0.52433584,  0.64477374]])"
      ]
     },
     "execution_count": 7,
     "metadata": {},
     "output_type": "execute_result"
    }
   ],
   "source": [
    "U"
   ]
  },
  {
   "cell_type": "code",
   "execution_count": 8,
   "metadata": {},
   "outputs": [
    {
     "data": {
      "text/plain": [
       "array([[-0.82391094,  0.31558874, -0.39671631,  0.25250596, -0.02077056],\n",
       "       [ 0.27556414,  0.82249527,  0.06294942,  0.01066225,  0.49344668],\n",
       "       [-0.07676445, -0.20590547,  0.48247752,  0.79018774,  0.30745559],\n",
       "       [ 0.26967162, -0.33441897, -0.72994658,  0.19183933,  0.49579919],\n",
       "       [-0.40819065, -0.26395486,  0.27027203, -0.52433584,  0.64477374]])"
      ]
     },
     "execution_count": 8,
     "metadata": {},
     "output_type": "execute_result"
    }
   ],
   "source": [
    "np.array([eigvalue_vector_map[k] for k in np.sort(eigvalue)[::-1]])"
   ]
  },
  {
   "cell_type": "markdown",
   "metadata": {},
   "source": [
    "**Notice that the magnitudes are same but direction of eigenvectors can be different**"
   ]
  },
  {
   "cell_type": "code",
   "execution_count": 9,
   "metadata": {},
   "outputs": [
    {
     "data": {
      "text/plain": [
       "array([[ 0.82391094, -0.31558874, -0.39671631, -0.25250596,  0.02077056],\n",
       "       [-0.27556414, -0.82249527,  0.06294942, -0.01066225, -0.49344668],\n",
       "       [ 0.07676445,  0.20590547,  0.48247752, -0.79018774, -0.30745559],\n",
       "       [-0.26967162,  0.33441897, -0.72994658, -0.19183933, -0.49579919],\n",
       "       [ 0.40819065,  0.26395486,  0.27027203,  0.52433584, -0.64477374]])"
      ]
     },
     "execution_count": 9,
     "metadata": {},
     "output_type": "execute_result"
    }
   ],
   "source": [
    "np.transpose(VT)"
   ]
  },
  {
   "cell_type": "code",
   "execution_count": 10,
   "metadata": {},
   "outputs": [
    {
     "data": {
      "text/plain": [
       "array([[-0.82391094,  0.31558874, -0.39671631,  0.25250596, -0.02077056],\n",
       "       [ 0.27556414,  0.82249527,  0.06294942,  0.01066225,  0.49344668],\n",
       "       [-0.07676445, -0.20590547,  0.48247752,  0.79018774,  0.30745559],\n",
       "       [ 0.26967162, -0.33441897, -0.72994658,  0.19183933,  0.49579919],\n",
       "       [-0.40819065, -0.26395486,  0.27027203, -0.52433584,  0.64477374]])"
      ]
     },
     "execution_count": 10,
     "metadata": {},
     "output_type": "execute_result"
    }
   ],
   "source": [
    "C = np.transpose(X)@X\n",
    "\n",
    "eigvalue = np.linalg.eig(C)[0]\n",
    "eigvector = np.linalg.eig(C)[1]\n",
    "\n",
    "eigvalue_vector_map = dict(zip(eigvalue, eigvector))\n",
    "\n",
    "#sorted in eigenvalues\n",
    "eigvalue_vector_map = {k: eigvalue_vector_map[k] for k in np.sort(eigvalue)}\n",
    "\n",
    "np.array([eigvalue_vector_map[k] for k in np.sort(eigvalue)[::-1]])"
   ]
  },
  {
   "cell_type": "markdown",
   "metadata": {},
   "source": [
    "**Again, magnitudes are same but direction of eigenvectors can be different**"
   ]
  },
  {
   "cell_type": "markdown",
   "metadata": {},
   "source": [
    "### Low Rank Approximation of SVD"
   ]
  },
  {
   "cell_type": "code",
   "execution_count": 11,
   "metadata": {},
   "outputs": [
    {
     "data": {
      "text/plain": [
       "((5, 5), (5, 5), (5, 5))"
      ]
     },
     "execution_count": 11,
     "metadata": {},
     "output_type": "execute_result"
    }
   ],
   "source": [
    "U = np.linalg.svd(X)[0]\n",
    "\n",
    "S = np.diag(np.linalg.svd(X)[1])\n",
    "\n",
    "VT = np.linalg.svd(X)[2]\n",
    "\n",
    "U.shape, S.shape, VT.shape"
   ]
  },
  {
   "cell_type": "code",
   "execution_count": 12,
   "metadata": {},
   "outputs": [],
   "source": [
    "def find_approximated_data(n_components):\n",
    "    k = n_components\n",
    "    \n",
    "    return U[:,:k] @ S[:k, :k] @ VT[:k]\n",
    "\n",
    "def rmse(X,Y):\n",
    "    return np.sqrt(np.mean(np.square(X - Y)))"
   ]
  },
  {
   "cell_type": "code",
   "execution_count": 13,
   "metadata": {},
   "outputs": [
    {
     "data": {
      "text/html": [
       "<div>\n",
       "<style scoped>\n",
       "    .dataframe tbody tr th:only-of-type {\n",
       "        vertical-align: middle;\n",
       "    }\n",
       "\n",
       "    .dataframe tbody tr th {\n",
       "        vertical-align: top;\n",
       "    }\n",
       "\n",
       "    .dataframe thead th {\n",
       "        text-align: right;\n",
       "    }\n",
       "</style>\n",
       "<table border=\"1\" class=\"dataframe\">\n",
       "  <thead>\n",
       "    <tr style=\"text-align: right;\">\n",
       "      <th></th>\n",
       "      <th>rmse</th>\n",
       "    </tr>\n",
       "    <tr>\n",
       "      <th>n_components</th>\n",
       "      <th></th>\n",
       "    </tr>\n",
       "  </thead>\n",
       "  <tbody>\n",
       "    <tr>\n",
       "      <th>0</th>\n",
       "      <td>0.633339</td>\n",
       "    </tr>\n",
       "    <tr>\n",
       "      <th>1</th>\n",
       "      <td>0.400775</td>\n",
       "    </tr>\n",
       "    <tr>\n",
       "      <th>2</th>\n",
       "      <td>0.278317</td>\n",
       "    </tr>\n",
       "    <tr>\n",
       "      <th>3</th>\n",
       "      <td>0.149053</td>\n",
       "    </tr>\n",
       "    <tr>\n",
       "      <th>4</th>\n",
       "      <td>0.066768</td>\n",
       "    </tr>\n",
       "  </tbody>\n",
       "</table>\n",
       "</div>"
      ],
      "text/plain": [
       "                  rmse\n",
       "n_components          \n",
       "0             0.633339\n",
       "1             0.400775\n",
       "2             0.278317\n",
       "3             0.149053\n",
       "4             0.066768"
      ]
     },
     "execution_count": 13,
     "metadata": {},
     "output_type": "execute_result"
    }
   ],
   "source": [
    "RMSE=[]\n",
    "\n",
    "for n_components in range(min(X.shape)):\n",
    "    Y = find_approximated_data(n_components)\n",
    "    \n",
    "    RMSE.append(rmse(X,Y))\n",
    "    \n",
    "df = pd.DataFrame(RMSE, index=range(n_components+1), columns = ['rmse'])\n",
    "df.index.name='n_components'\n",
    "\n",
    "df"
   ]
  },
  {
   "cell_type": "markdown",
   "metadata": {},
   "source": [
    "**Elbow method to find optimal number of components**"
   ]
  },
  {
   "cell_type": "code",
   "execution_count": 14,
   "metadata": {},
   "outputs": [
    {
     "data": {
      "image/png": "[encoded data removed]",
      "text/plain": [
       "<Figure size 432x288 with 1 Axes>"
      ]
     },
     "metadata": {
      "needs_background": "light"
     },
     "output_type": "display_data"
    }
   ],
   "source": [
    "components = range(n_components+1)\n",
    "\n",
    "plt.plot(components, RMSE, c='k')\n",
    "plt.xticks(components)\n",
    "plt.show()"
   ]
  },
  {
   "cell_type": "code",
   "execution_count": 15,
   "metadata": {},
   "outputs": [
    {
     "data": {
      "text/html": [
       "<div>\n",
       "<style scoped>\n",
       "    .dataframe tbody tr th:only-of-type {\n",
       "        vertical-align: middle;\n",
       "    }\n",
       "\n",
       "    .dataframe tbody tr th {\n",
       "        vertical-align: top;\n",
       "    }\n",
       "\n",
       "    .dataframe thead th {\n",
       "        text-align: right;\n",
       "    }\n",
       "</style>\n",
       "<table border=\"1\" class=\"dataframe\">\n",
       "  <thead>\n",
       "    <tr style=\"text-align: right;\">\n",
       "      <th></th>\n",
       "      <th>rmse</th>\n",
       "      <th>rmse_shifted</th>\n",
       "      <th>gradient</th>\n",
       "    </tr>\n",
       "    <tr>\n",
       "      <th>n_components</th>\n",
       "      <th></th>\n",
       "      <th></th>\n",
       "      <th></th>\n",
       "    </tr>\n",
       "  </thead>\n",
       "  <tbody>\n",
       "    <tr>\n",
       "      <th>1</th>\n",
       "      <td>0.400775</td>\n",
       "      <td>0.633339</td>\n",
       "      <td>-0.232563</td>\n",
       "    </tr>\n",
       "    <tr>\n",
       "      <th>2</th>\n",
       "      <td>0.278317</td>\n",
       "      <td>0.400775</td>\n",
       "      <td>-0.122459</td>\n",
       "    </tr>\n",
       "    <tr>\n",
       "      <th>3</th>\n",
       "      <td>0.149053</td>\n",
       "      <td>0.278317</td>\n",
       "      <td>-0.129264</td>\n",
       "    </tr>\n",
       "    <tr>\n",
       "      <th>4</th>\n",
       "      <td>0.066768</td>\n",
       "      <td>0.149053</td>\n",
       "      <td>-0.082285</td>\n",
       "    </tr>\n",
       "  </tbody>\n",
       "</table>\n",
       "</div>"
      ],
      "text/plain": [
       "                  rmse  rmse_shifted  gradient\n",
       "n_components                                  \n",
       "1             0.400775      0.633339 -0.232563\n",
       "2             0.278317      0.400775 -0.122459\n",
       "3             0.149053      0.278317 -0.129264\n",
       "4             0.066768      0.149053 -0.082285"
      ]
     },
     "execution_count": 15,
     "metadata": {},
     "output_type": "execute_result"
    }
   ],
   "source": [
    "df['rmse_shifted']=df['rmse'].shift(1)\n",
    "df['gradient']=df['rmse']-df['rmse_shifted']\n",
    "\n",
    "df.dropna(inplace=True)\n",
    "df"
   ]
  },
  {
   "cell_type": "code",
   "execution_count": 16,
   "metadata": {},
   "outputs": [
    {
     "data": {
      "text/html": [
       "<div>\n",
       "<style scoped>\n",
       "    .dataframe tbody tr th:only-of-type {\n",
       "        vertical-align: middle;\n",
       "    }\n",
       "\n",
       "    .dataframe tbody tr th {\n",
       "        vertical-align: top;\n",
       "    }\n",
       "\n",
       "    .dataframe thead th {\n",
       "        text-align: right;\n",
       "    }\n",
       "</style>\n",
       "<table border=\"1\" class=\"dataframe\">\n",
       "  <thead>\n",
       "    <tr style=\"text-align: right;\">\n",
       "      <th></th>\n",
       "      <th>rmse</th>\n",
       "      <th>rmse_shifted</th>\n",
       "      <th>gradient</th>\n",
       "    </tr>\n",
       "    <tr>\n",
       "      <th>n_components</th>\n",
       "      <th></th>\n",
       "      <th></th>\n",
       "      <th></th>\n",
       "    </tr>\n",
       "  </thead>\n",
       "  <tbody>\n",
       "    <tr>\n",
       "      <th>1</th>\n",
       "      <td>0.400775</td>\n",
       "      <td>0.633339</td>\n",
       "      <td>-0.232563</td>\n",
       "    </tr>\n",
       "  </tbody>\n",
       "</table>\n",
       "</div>"
      ],
      "text/plain": [
       "                  rmse  rmse_shifted  gradient\n",
       "n_components                                  \n",
       "1             0.400775      0.633339 -0.232563"
      ]
     },
     "execution_count": 16,
     "metadata": {},
     "output_type": "execute_result"
    }
   ],
   "source": [
    "df[abs(df['gradient'])==max(abs(df['gradient']))]"
   ]
  },
  {
   "cell_type": "code",
   "execution_count": null,
   "metadata": {},
   "outputs": [],
   "source": []
  }
 ],
 "metadata": {
  "kernelspec": {
   "display_name": "Python 3",
   "language": "python",
   "name": "python3"
  },
  "language_info": {
   "codemirror_mode": {
    "name": "ipython",
    "version": 3
   },
   "file_extension": ".py",
   "mimetype": "text/x-python",
   "name": "python",
   "nbconvert_exporter": "python",
   "pygments_lexer": "ipython3",
   "version": "3.8.5"
  }
 },
 "nbformat": 4,
 "nbformat_minor": 4
}
