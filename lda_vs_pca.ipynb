{
 "cells": [
  {
   "cell_type": "code",
   "execution_count": 1,
   "metadata": {},
   "outputs": [],
   "source": [
    "import numpy as np\n",
    "import matplotlib.pyplot as plt\n",
    "\n",
    "from sklearn.decomposition import PCA"
   ]
  },
  {
   "cell_type": "code",
   "execution_count": 2,
   "metadata": {},
   "outputs": [],
   "source": [
    "N=3\n",
    "\n",
    "# N X D (n_examples X n_features)\n",
    "X1=np.array([[5,3,2],[4,6,0],[3,-7,14]])\n",
    "X2=np.array([[-2,-5,17],[3,-13,10],[-4,-2,16]])"
   ]
  },
  {
   "cell_type": "code",
   "execution_count": 3,
   "metadata": {},
   "outputs": [],
   "source": [
    "m1=np.mean(X1, axis=0)\n",
    "m2=np.mean(X2, axis=0)\n",
    "\n",
    "Z1=X1-m1\n",
    "Z2=X2-m2"
   ]
  },
  {
   "cell_type": "markdown",
   "metadata": {},
   "source": [
    "### Linear Discriminant Analysis\n",
    "\n",
    "**We need to maximize:**\n",
    "\n",
    "\\begin{equation}\n",
    "\\mathrm{J}(\\mathrm{u})=\\frac{\\mathrm{u}^{\\mathrm{T}} \\mathrm{S}_{\\mathrm{B}} \\mathrm{u}}{\\mathrm{u}^{\\mathrm{T}} \\mathrm{S}_{\\mathrm{W}} \\mathrm{u}}\n",
    "\\end{equation}\n",
    "\n",
    "where: \n",
    "\n",
    "Between class variance\n",
    "\\begin{equation}\n",
    "\\mathrm{S}_{\\mathrm{B}}=\\left(\\mathrm{m}_{1}-\\mathrm{m}_{2}\\right)\\left(\\mathrm{m}_{1}-\\mathrm{m}_{2}\\right)^{\\mathrm{T}}\n",
    "\\end{equation}\n",
    "\n",
    "Within Class variance\n",
    "\\begin{equation}\n",
    "s_{1}^{2}+s_{2}^{2}=u^{T} S_{w} u\n",
    "\\end{equation}\n",
    "\n",
    "\\begin{equation}\n",
    "s_{1}^{2}=\\sum_{y \\in W 1}\\left(y-m_{y 1}\\right)^{2}\n",
    "\\end{equation}"
   ]
  },
  {
   "cell_type": "markdown",
   "metadata": {},
   "source": [
    "**Solution to the optimization problem:**\n",
    "\n",
    "\\begin{equation}\n",
    "\\mathrm{u}=\\mathrm{S}_{\\mathrm{W}}^{-1}\\left(\\mathrm{~m}_{1}-\\mathrm{m}_{2}\\right)\n",
    "\\end{equation}"
   ]
  },
  {
   "cell_type": "code",
   "execution_count": 4,
   "metadata": {},
   "outputs": [],
   "source": [
    "SW = np.transpose(Z1)@Z1 + np.transpose(Z2)@Z2\n",
    "\n",
    "m=(m1-m2).reshape(-1,1)\n",
    "SB=m@np.transpose(m)"
   ]
  },
  {
   "cell_type": "code",
   "execution_count": 5,
   "metadata": {},
   "outputs": [
    {
     "data": {
      "text/plain": [
       "array([3.20696762, 1.19519136, 1.29038273])"
      ]
     },
     "execution_count": 5,
     "metadata": {},
     "output_type": "execute_result"
    }
   ],
   "source": [
    "#solution of LDA \n",
    "u = np.linalg.inv(SW)@(m1-m2)\n",
    "u"
   ]
  },
  {
   "cell_type": "code",
   "execution_count": 6,
   "metadata": {},
   "outputs": [],
   "source": [
    "#lDA transformed vectors\n",
    "\n",
    "Y1 = X1@u\n",
    "Y2 = X2@u"
   ]
  },
  {
   "cell_type": "code",
   "execution_count": 7,
   "metadata": {},
   "outputs": [
    {
     "name": "stdout",
     "output_type": "stream",
     "text": [
      "Class 1: [22.20117763 19.99901865 19.31992149]\n",
      "Class 2: [9.54661433 6.98724239 5.42787046]\n"
     ]
    }
   ],
   "source": [
    "print('Class 1:', Y1)\n",
    "print('Class 2:', Y2)"
   ]
  },
  {
   "cell_type": "code",
   "execution_count": 8,
   "metadata": {},
   "outputs": [
    {
     "data": {
      "image/png": "[encoded data removed]",
      "text/plain": [
       "<Figure size 432x288 with 1 Axes>"
      ]
     },
     "metadata": {
      "needs_background": "light"
     },
     "output_type": "display_data"
    }
   ],
   "source": [
    "plt.plot(Y1,c='b')\n",
    "plt.plot(Y2,c='g')\n",
    "\n",
    "plt.show()"
   ]
  },
  {
   "cell_type": "code",
   "execution_count": 9,
   "metadata": {},
   "outputs": [
    {
     "data": {
      "image/png": "[encoded data removed]",
      "text/plain": [
       "<Figure size 432x288 with 1 Axes>"
      ]
     },
     "metadata": {
      "needs_background": "light"
     },
     "output_type": "display_data"
    }
   ],
   "source": [
    "#another way to view the results\n",
    "\n",
    "plt.scatter(Y1.tolist() + Y2.tolist(),[0,0,0,1,1,1])\n",
    "plt.show()"
   ]
  },
  {
   "cell_type": "markdown",
   "metadata": {},
   "source": [
    "**We notice that the transformed data-points are linearly-separable now.**"
   ]
  },
  {
   "cell_type": "markdown",
   "metadata": {},
   "source": [
    "### Principal Component Analysis\n",
    "\n",
    "Let's do PCA on the same data irrespective of labels. \n",
    "\n",
    "**PCA is an unsupervised learning method and LDA is supervised learning method.** Both of these methods can be used for dimension reduction. "
   ]
  },
  {
   "cell_type": "code",
   "execution_count": 10,
   "metadata": {},
   "outputs": [
    {
     "data": {
      "text/plain": [
       "array([[  5,   4,   3],\n",
       "       [  3,   6,  -7],\n",
       "       [  2,   0,  14],\n",
       "       [ -2,   3,  -4],\n",
       "       [ -5, -13,  -2],\n",
       "       [ 17,  10,  16]])"
      ]
     },
     "execution_count": 10,
     "metadata": {},
     "output_type": "execute_result"
    }
   ],
   "source": [
    "X=np.hstack((X1,X2)).transpose()\n",
    "X"
   ]
  },
  {
   "cell_type": "code",
   "execution_count": 11,
   "metadata": {},
   "outputs": [
    {
     "data": {
      "text/plain": [
       "array([[57.87, 46.73, 49.07],\n",
       "       [46.73, 62.67, 22.13],\n",
       "       [49.07, 22.13, 92.67]])"
      ]
     },
     "execution_count": 11,
     "metadata": {},
     "output_type": "execute_result"
    }
   ],
   "source": [
    "# manually calculating sigma \n",
    "# also can be calculated as sigma = np.cov(X.transpose()).round(2)\n",
    "\n",
    "X1 = X-np.mean(X, axis=0)\n",
    "sigma = ((np.transpose(X1)@X1) / (len(X1)-1)).round(2)\n",
    "sigma"
   ]
  },
  {
   "cell_type": "code",
   "execution_count": 12,
   "metadata": {},
   "outputs": [
    {
     "data": {
      "text/plain": [
       "array([[  1.84905052,   2.21035411],\n",
       "       [ -4.99837065,  10.01337259],\n",
       "       [  5.50545894,  -8.71213925],\n",
       "       [ -7.33552389,   4.82921109],\n",
       "       [-15.29674133,  -8.39043108],\n",
       "       [ 20.2761264 ,   0.04963254]])"
      ]
     },
     "execution_count": 12,
     "metadata": {},
     "output_type": "execute_result"
    }
   ],
   "source": [
    "pca = PCA(n_components=2)\n",
    "y=[0,0,0,1,1,1]\n",
    "\n",
    "X1_pca = pca.fit_transform(X1)\n",
    "X1_pca"
   ]
  },
  {
   "cell_type": "code",
   "execution_count": 13,
   "metadata": {},
   "outputs": [
    {
     "data": {
      "image/png": "[encoded data removed]",
      "text/plain": [
       "<Figure size 432x288 with 1 Axes>"
      ]
     },
     "metadata": {
      "needs_background": "light"
     },
     "output_type": "display_data"
    }
   ],
   "source": [
    "plt.scatter(X1_pca[:,0], X1_pca[:,1], c=y)\n",
    "plt.show()"
   ]
  },
  {
   "cell_type": "markdown",
   "metadata": {},
   "source": [
    "**Hence, we can notice that PCA does not aim to linearly separate the data, unlike LDA. It aims to maximize variance capture through linear combinations of variables.**"
   ]
  },
  {
   "cell_type": "code",
   "execution_count": null,
   "metadata": {},
   "outputs": [],
   "source": []
  }
 ],
 "metadata": {
  "kernelspec": {
   "display_name": "Python 3",
   "language": "python",
   "name": "python3"
  },
  "language_info": {
   "codemirror_mode": {
    "name": "ipython",
    "version": 3
   },
   "file_extension": ".py",
   "mimetype": "text/x-python",
   "name": "python",
   "nbconvert_exporter": "python",
   "pygments_lexer": "ipython3",
   "version": "3.8.5"
  }
 },
 "nbformat": 4,
 "nbformat_minor": 4
}
