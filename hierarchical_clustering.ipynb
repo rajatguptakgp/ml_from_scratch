{
 "cells": [
  {
   "cell_type": "code",
   "execution_count": 1,
   "metadata": {},
   "outputs": [],
   "source": [
    "import numpy as np\n",
    "import pandas as pd\n",
    "import matplotlib.pyplot as plt\n",
    "from sklearn.metrics.pairwise import euclidean_distances\n",
    "\n",
    "np.set_printoptions(suppress=True)"
   ]
  },
  {
   "cell_type": "markdown",
   "metadata": {},
   "source": [
    "### Hierarchical Agglomerative Clustering\n",
    "\n",
    "We will implement (Hierarchical Agglomerative Clustering) HAC from scratch. Consider points on a 2D plane so that we can visualize them as well. \n",
    "\n",
    "There are three types of linkages:\n",
    "1. **Single-link** - considers minimum distance between cluster and other points\n",
    "2. **Complete-link** - considers maximum distance between cluster and other points\n",
    "3. **Average-link** - considers average distance between cluster and other points\n",
    "\n",
    "The algorithm will run till we end up with a single cluster encompassing all points. However, under different linkage types, we will check how intermediate clusters formed differ."
   ]
  },
  {
   "cell_type": "code",
   "execution_count": 2,
   "metadata": {},
   "outputs": [],
   "source": [
    "# number of data points\n",
    "N = 6\n",
    "seed = 42"
   ]
  },
  {
   "cell_type": "code",
   "execution_count": 3,
   "metadata": {},
   "outputs": [],
   "source": [
    "def make_data(N, seed, plot=False):\n",
    "    np.random.seed(seed)\n",
    "    data = np.random.uniform(0,1,(N,2))\n",
    "    if plot:\n",
    "        labels = list(map(str, range(N)))\n",
    "        plt.scatter(data[:, 0], data[:, 1])\n",
    "        # annotate text\n",
    "        for idx in range(len(data)):\n",
    "            x = data[idx,0]\n",
    "            y = data[idx,1]\n",
    "            label = labels[idx]\n",
    "            plt.annotate(label, (x,y), ha='center', fontsize=14)\n",
    "        plt.show()\n",
    "    return data"
   ]
  },
  {
   "cell_type": "code",
   "execution_count": 4,
   "metadata": {},
   "outputs": [
    {
     "data": {
      "image/png": "[encoded data removed]",
      "text/plain": [
       "<Figure size 432x288 with 1 Axes>"
      ]
     },
     "metadata": {
      "needs_background": "light"
     },
     "output_type": "display_data"
    },
    {
     "name": "stdout",
     "output_type": "stream",
     "text": [
      "Shape of data: (6, 2)\n"
     ]
    }
   ],
   "source": [
    "data = make_data(N, seed, plot=True)\n",
    "print('Shape of data:', data.shape)"
   ]
  },
  {
   "cell_type": "code",
   "execution_count": 5,
   "metadata": {},
   "outputs": [],
   "source": [
    "def find_HAC(data, N, type):\n",
    "    # define similarity metric\n",
    "    dist = euclidean_distances(data)\n",
    "    cluster_labels = [[i] for i in range(N)]\n",
    "\n",
    "    for n_iter in range(1, N):\n",
    "\n",
    "        # finding closest points\n",
    "        idxs = np.dstack(np.unravel_index(np.argsort(dist.ravel()), dist.shape))[0]\n",
    "        idx = idxs[idxs[:,0]!=idxs[:,1]][0]\n",
    "        insert_cluster_idx = cluster_labels[min(idx)]\n",
    "        remove_cluster_idx = cluster_labels[max(idx)]\n",
    "\n",
    "        # linkage type - single-link/complete-link/average-link\n",
    "        if type=='single-link':\n",
    "            dist[min(idx), :] = np.min(dist[idx], axis=0)\n",
    "            dist[:, min(idx)] = np.min(dist[idx], axis=0)\n",
    "        elif type=='complete-link':\n",
    "            dist[min(idx), :] = np.max(dist[idx], axis=0)\n",
    "            dist[:, min(idx)] = np.max(dist[idx], axis=0)   \n",
    "        else:\n",
    "            dist[min(idx), :] = np.mean(np.max(dist[idx], axis=0) + np.min(dist[idx], axis=0))\n",
    "            dist[:, min(idx)] = np.mean(np.max(dist[idx], axis=0) + np.min(dist[idx], axis=0))\n",
    "\n",
    "        dist = np.delete(dist, max(idx), axis=0)\n",
    "        dist = np.delete(dist, max(idx), axis=1)\n",
    "\n",
    "        \n",
    "        cluster_labels[cluster_labels.index(insert_cluster_idx)] += remove_cluster_idx\n",
    "        cluster_labels.remove(remove_cluster_idx)\n",
    "        print(f'Iteration {n_iter}:', cluster_labels)"
   ]
  },
  {
   "cell_type": "code",
   "execution_count": 6,
   "metadata": {},
   "outputs": [
    {
     "name": "stdout",
     "output_type": "stream",
     "text": [
      "Iteration 1: [[0], [1], [2], [3, 5], [4]]\n",
      "Iteration 2: [[0], [1, 4], [2], [3, 5]]\n",
      "Iteration 3: [[0, 3, 5], [1, 4], [2]]\n",
      "Iteration 4: [[0, 3, 5, 1, 4], [2]]\n",
      "Iteration 5: [[0, 3, 5, 1, 4, 2]]\n"
     ]
    }
   ],
   "source": [
    "data = make_data(N, seed, plot=False)\n",
    "type = 'single-link'\n",
    "find_HAC(data, N, type)"
   ]
  },
  {
   "cell_type": "code",
   "execution_count": 7,
   "metadata": {},
   "outputs": [
    {
     "name": "stdout",
     "output_type": "stream",
     "text": [
      "Iteration 1: [[0], [1], [2], [3, 5], [4]]\n",
      "Iteration 2: [[0], [1, 4], [2], [3, 5]]\n",
      "Iteration 3: [[0, 3, 5], [1, 4], [2]]\n",
      "Iteration 4: [[0, 3, 5], [1, 4, 2]]\n",
      "Iteration 5: [[0, 3, 5, 1, 4, 2]]\n"
     ]
    }
   ],
   "source": [
    "data = make_data(N, seed, plot=False)\n",
    "type = 'complete-link'\n",
    "find_HAC(data, N, type)"
   ]
  },
  {
   "cell_type": "code",
   "execution_count": 8,
   "metadata": {},
   "outputs": [
    {
     "name": "stdout",
     "output_type": "stream",
     "text": [
      "Iteration 1: [[0], [1], [2], [3, 5], [4]]\n",
      "Iteration 2: [[0], [1, 4], [2], [3, 5]]\n",
      "Iteration 3: [[0, 2], [1, 4], [3, 5]]\n",
      "Iteration 4: [[0, 2], [1, 4, 3, 5]]\n",
      "Iteration 5: [[0, 2, 1, 4, 3, 5]]\n"
     ]
    }
   ],
   "source": [
    "data = make_data(N, seed, plot=False)\n",
    "type = 'average-link'\n",
    "find_HAC(data, N, type)"
   ]
  },
  {
   "cell_type": "code",
   "execution_count": null,
   "metadata": {},
   "outputs": [],
   "source": []
  }
 ],
 "metadata": {
  "interpreter": {
   "hash": "951daa5e1959839fcb325fff331f52e72634f7a1be998f6081ed7f433b63f1b3"
  },
  "kernelspec": {
   "display_name": "Python 3.8.11 64-bit ('base': conda)",
   "language": "python",
   "name": "python3"
  },
  "language_info": {
   "codemirror_mode": {
    "name": "ipython",
    "version": 3
   },
   "file_extension": ".py",
   "mimetype": "text/x-python",
   "name": "python",
   "nbconvert_exporter": "python",
   "pygments_lexer": "ipython3",
   "version": "3.8.11"
  },
  "orig_nbformat": 4
 },
 "nbformat": 4,
 "nbformat_minor": 2
}
