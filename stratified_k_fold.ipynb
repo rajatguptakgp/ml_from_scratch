{
 "cells": [
  {
   "cell_type": "code",
   "execution_count": 1,
   "metadata": {},
   "outputs": [],
   "source": [
    "import numpy as np\n",
    "import pandas as pd\n",
    "\n",
    "from sklearn.linear_model import LogisticRegression\n",
    "from sklearn.model_selection import cross_val_score\n",
    "from sklearn.metrics import accuracy_score\n",
    "\n",
    "import warnings \n",
    "warnings.filterwarnings('ignore')"
   ]
  },
  {
   "cell_type": "code",
   "execution_count": 2,
   "metadata": {},
   "outputs": [
    {
     "data": {
      "text/html": [
       "<div>\n",
       "<style scoped>\n",
       "    .dataframe tbody tr th:only-of-type {\n",
       "        vertical-align: middle;\n",
       "    }\n",
       "\n",
       "    .dataframe tbody tr th {\n",
       "        vertical-align: top;\n",
       "    }\n",
       "\n",
       "    .dataframe thead th {\n",
       "        text-align: right;\n",
       "    }\n",
       "</style>\n",
       "<table border=\"1\" class=\"dataframe\">\n",
       "  <thead>\n",
       "    <tr style=\"text-align: right;\">\n",
       "      <th></th>\n",
       "      <th>X</th>\n",
       "      <th>Y</th>\n",
       "    </tr>\n",
       "  </thead>\n",
       "  <tbody>\n",
       "    <tr>\n",
       "      <th>0</th>\n",
       "      <td>108</td>\n",
       "      <td>0</td>\n",
       "    </tr>\n",
       "    <tr>\n",
       "      <th>1</th>\n",
       "      <td>872</td>\n",
       "      <td>0</td>\n",
       "    </tr>\n",
       "    <tr>\n",
       "      <th>2</th>\n",
       "      <td>377</td>\n",
       "      <td>0</td>\n",
       "    </tr>\n",
       "    <tr>\n",
       "      <th>3</th>\n",
       "      <td>638</td>\n",
       "      <td>0</td>\n",
       "    </tr>\n",
       "    <tr>\n",
       "      <th>4</th>\n",
       "      <td>89</td>\n",
       "      <td>0</td>\n",
       "    </tr>\n",
       "  </tbody>\n",
       "</table>\n",
       "</div>"
      ],
      "text/plain": [
       "     X  Y\n",
       "0  108  0\n",
       "1  872  0\n",
       "2  377  0\n",
       "3  638  0\n",
       "4   89  0"
      ]
     },
     "execution_count": 2,
     "metadata": {},
     "output_type": "execute_result"
    }
   ],
   "source": [
    "X=np.arange(1000)\n",
    "np.random.shuffle(X)\n",
    "\n",
    "Y=np.array([0]*950+[1]*50)\n",
    "\n",
    "df=pd.DataFrame(np.vstack((X,Y)).transpose(),columns=['X','Y'])\n",
    "df.head()"
   ]
  },
  {
   "cell_type": "code",
   "execution_count": 3,
   "metadata": {},
   "outputs": [
    {
     "data": {
      "text/plain": [
       "0    950\n",
       "1     50\n",
       "Name: Y, dtype: int64"
      ]
     },
     "execution_count": 3,
     "metadata": {},
     "output_type": "execute_result"
    }
   ],
   "source": [
    "df.Y.value_counts()"
   ]
  },
  {
   "cell_type": "code",
   "execution_count": 4,
   "metadata": {},
   "outputs": [],
   "source": [
    "zero_idx=list(df[df.Y==0].index)\n",
    "one_idx=list(df[df.Y==1].index)\n",
    "\n",
    "np.random.shuffle(zero_idx)\n",
    "np.random.shuffle(one_idx)"
   ]
  },
  {
   "cell_type": "code",
   "execution_count": 5,
   "metadata": {
    "scrolled": true
   },
   "outputs": [
    {
     "data": {
      "text/plain": [
       "0.95"
      ]
     },
     "execution_count": 5,
     "metadata": {},
     "output_type": "execute_result"
    }
   ],
   "source": [
    "K=5\n",
    "\n",
    "TRAIN_PCT=1-1/K\n",
    "VAL_PCT=1/K\n",
    "\n",
    "ACCURACY=[]\n",
    "for i in range(K):\n",
    "    val_zero_size=int(len(zero_idx)*VAL_PCT)\n",
    "    val_one_size=int(len(one_idx)*VAL_PCT)\n",
    "    \n",
    "    val_zero=zero_idx[val_zero_size*i:val_zero_size*(i+1)]\n",
    "    val_one=one_idx[val_one_size*i:val_one_size*(i+1)]\n",
    "\n",
    "    train_idx=list(set(zero_idx+one_idx)-set(val_zero+val_one))\n",
    "    val_idx=list(val_zero+val_one)\n",
    "\n",
    "    train_df=df.loc[train_idx]\n",
    "    val_df=df.loc[val_idx]\n",
    "\n",
    "    clf=LogisticRegression()\n",
    "    clf.fit(train_df[['X']],train_df[['Y']])\n",
    "    y_pred=clf.predict(val_df[['X']])\n",
    "\n",
    "    ACCURACY.append(accuracy_score(val_df[['Y']],y_pred))\n",
    "    \n",
    "np.mean(ACCURACY)"
   ]
  },
  {
   "cell_type": "code",
   "execution_count": 6,
   "metadata": {},
   "outputs": [
    {
     "data": {
      "text/plain": [
       "0.95"
      ]
     },
     "execution_count": 6,
     "metadata": {},
     "output_type": "execute_result"
    }
   ],
   "source": [
    "X=df[['X']]\n",
    "y=df[['Y']]\n",
    "\n",
    "np.mean(cross_val_score(clf,X,y,cv=5))"
   ]
  },
  {
   "cell_type": "code",
   "execution_count": null,
   "metadata": {},
   "outputs": [],
   "source": []
  }
 ],
 "metadata": {
  "kernelspec": {
   "display_name": "Python 3",
   "language": "python",
   "name": "python3"
  },
  "language_info": {
   "codemirror_mode": {
    "name": "ipython",
    "version": 3
   },
   "file_extension": ".py",
   "mimetype": "text/x-python",
   "name": "python",
   "nbconvert_exporter": "python",
   "pygments_lexer": "ipython3",
   "version": "3.7.6"
  }
 },
 "nbformat": 4,
 "nbformat_minor": 4
}
