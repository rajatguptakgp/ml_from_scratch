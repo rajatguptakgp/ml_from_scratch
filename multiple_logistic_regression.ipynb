{
 "cells": [
  {
   "cell_type": "code",
   "execution_count": 1,
   "metadata": {},
   "outputs": [],
   "source": [
    "import numpy as np\n",
    "import pandas as pd\n",
    "\n",
    "import matplotlib.pyplot as plt"
   ]
  },
  {
   "cell_type": "code",
   "execution_count": 2,
   "metadata": {},
   "outputs": [
    {
     "data": {
      "text/html": [
       "<div>\n",
       "<style scoped>\n",
       "    .dataframe tbody tr th:only-of-type {\n",
       "        vertical-align: middle;\n",
       "    }\n",
       "\n",
       "    .dataframe tbody tr th {\n",
       "        vertical-align: top;\n",
       "    }\n",
       "\n",
       "    .dataframe thead th {\n",
       "        text-align: right;\n",
       "    }\n",
       "</style>\n",
       "<table border=\"1\" class=\"dataframe\">\n",
       "  <thead>\n",
       "    <tr style=\"text-align: right;\">\n",
       "      <th></th>\n",
       "      <th>X1</th>\n",
       "      <th>X2</th>\n",
       "      <th>Y</th>\n",
       "    </tr>\n",
       "  </thead>\n",
       "  <tbody>\n",
       "    <tr>\n",
       "      <th>0</th>\n",
       "      <td>-1.597774</td>\n",
       "      <td>-0.599741</td>\n",
       "      <td>0.0</td>\n",
       "    </tr>\n",
       "    <tr>\n",
       "      <th>1</th>\n",
       "      <td>0.863998</td>\n",
       "      <td>1.398610</td>\n",
       "      <td>0.0</td>\n",
       "    </tr>\n",
       "    <tr>\n",
       "      <th>2</th>\n",
       "      <td>0.242142</td>\n",
       "      <td>-0.417350</td>\n",
       "      <td>0.0</td>\n",
       "    </tr>\n",
       "    <tr>\n",
       "      <th>3</th>\n",
       "      <td>-0.375268</td>\n",
       "      <td>-0.996809</td>\n",
       "      <td>0.0</td>\n",
       "    </tr>\n",
       "    <tr>\n",
       "      <th>4</th>\n",
       "      <td>-0.036434</td>\n",
       "      <td>-0.735421</td>\n",
       "      <td>0.0</td>\n",
       "    </tr>\n",
       "  </tbody>\n",
       "</table>\n",
       "</div>"
      ],
      "text/plain": [
       "         X1        X2    Y\n",
       "0 -1.597774 -0.599741  0.0\n",
       "1  0.863998  1.398610  0.0\n",
       "2  0.242142 -0.417350  0.0\n",
       "3 -0.375268 -0.996809  0.0\n",
       "4 -0.036434 -0.735421  0.0"
      ]
     },
     "execution_count": 2,
     "metadata": {},
     "output_type": "execute_result"
    }
   ],
   "source": [
    "X1=np.random.normal(0,1,100)\n",
    "X2=np.random.normal(0,1,100)\n",
    "Y=np.array([0]*90+[1]*10)\n",
    "\n",
    "df=pd.DataFrame(np.vstack((X1,X2,Y)).transpose(), columns=['X1','X2','Y'])\n",
    "df.head()"
   ]
  },
  {
   "cell_type": "code",
   "execution_count": 3,
   "metadata": {},
   "outputs": [
    {
     "data": {
      "text/plain": [
       "0.0    90\n",
       "1.0    10\n",
       "Name: Y, dtype: int64"
      ]
     },
     "execution_count": 3,
     "metadata": {},
     "output_type": "execute_result"
    }
   ],
   "source": [
    "df.Y.value_counts()"
   ]
  },
  {
   "cell_type": "code",
   "execution_count": 4,
   "metadata": {},
   "outputs": [
    {
     "data": {
      "text/plain": [
       "((100, 2), (100,))"
      ]
     },
     "execution_count": 4,
     "metadata": {},
     "output_type": "execute_result"
    }
   ],
   "source": [
    "X=df[['X1','X2']].values\n",
    "Y=df['Y'].values\n",
    "\n",
    "X.shape, Y.shape"
   ]
  },
  {
   "cell_type": "markdown",
   "metadata": {},
   "source": [
    "- $X \\in \\mathbf R^{n \\times d}$ - constant data matrix\n",
    "- $\\theta_j \\sim \\mathcal N(0, \\sigma_\\theta)$; $\\theta$ is $d$-dimensional random vector (`This is a prior information that` $\\theta$ `follows normal distribution`)\n",
    "- $\\varepsilon_i \\sim \\text{Logistic}(0, \\sigma_\\epsilon)$; $\\varepsilon$ is $n$-dimensional random noise vector distributed according to [Logistic](https://en.wikipedia.org/wiki/Logistic_distribution) distribution\n",
    "- and we observe $\\mathbf y = \\mathbf 1[X \\theta + \\varepsilon \\geq 0]$ - boolean random vector"
   ]
  },
  {
   "cell_type": "markdown",
   "metadata": {},
   "source": [
    "$ P(y_i = 1 \\ | \\ \\theta, \\mathbf x_i) = \\text{logistic}\\Big(\\frac{\\theta^T \\mathbf x_i}{\\sigma_\\epsilon}\\Big)$"
   ]
  },
  {
   "cell_type": "markdown",
   "metadata": {},
   "source": [
    "$ P(y_i \\ | \\ \\theta, \\mathbf x_i) = (\\text{logistic}(\\theta^T \\mathbf x_i))^{y_i} (1-\\text{logistic}(\\theta^T \\mathbf x_i))^{(1-y_i)}$"
   ]
  },
  {
   "cell_type": "markdown",
   "metadata": {},
   "source": [
    "$ \\log P(y_i \\ | \\ \\theta, \\mathbf x_i) = y_i \\theta^T \\mathbf x_i - \\log(1 + \\exp(\\theta^T \\mathbf x_i))$"
   ]
  },
  {
   "cell_type": "markdown",
   "metadata": {},
   "source": [
    "$ \\mathcal L_{MLE}(\\theta) = \\log P(\\mathbf y \\ | \\ X, \\theta) = y^T X \\theta - \\mathbf 1_{n \\times 1}^T \\cdot \\log(\\mathbf 1_{n \\times 1} + \\exp(X \\theta)) $"
   ]
  },
  {
   "cell_type": "markdown",
   "metadata": {},
   "source": [
    "$\\frac{\\partial \\mathcal L_{MAP}(\\theta)}{\\partial \\theta} = X^T(y - \\text{logistic}(X\\theta))) - 2 \\lambda \\theta $"
   ]
  },
  {
   "cell_type": "code",
   "execution_count": 5,
   "metadata": {},
   "outputs": [
    {
     "data": {
      "text/plain": [
       "(array([ 0.36010186, -0.05220781]), 67.95925082108562)"
      ]
     },
     "execution_count": 5,
     "metadata": {},
     "output_type": "execute_result"
    }
   ],
   "source": [
    "def logistic(X):\n",
    "    return 1/(1+np.exp(-X))\n",
    "\n",
    "def gradient(X,Y,theta):\n",
    "    return -(np.transpose(X)@Y-np.transpose(X)@logistic(X@theta))\n",
    "\n",
    "def get_loss(X,Y,theta):\n",
    "    return -(np.transpose(Y)@X@theta-sum(np.log(1+np.exp(X@theta))))\n",
    "\n",
    "def logistic_regression(X,Y,alpha,n_iterations):\n",
    "    \n",
    "    THETA=[]\n",
    "    COSTS=[]\n",
    "    theta=np.random.normal(0,1,X.shape[1])*0.01\n",
    "    \n",
    "    for n_iter in range(n_iterations):\n",
    "        \n",
    "        dtheta=gradient(X,Y,theta)\n",
    "        theta=theta-alpha*dtheta\n",
    "        \n",
    "        cost=get_loss(X,Y,theta)\n",
    "        \n",
    "        THETA.append(theta)\n",
    "        COSTS.append(cost)\n",
    "    \n",
    "    return THETA, COSTS\n",
    "\n",
    "alpha=10E-3\n",
    "n_iterations=100\n",
    "THETA, COSTS=logistic_regression(X,Y,alpha,n_iterations)\n",
    "\n",
    "THETA[-1], COSTS[-1]"
   ]
  },
  {
   "cell_type": "code",
   "execution_count": 6,
   "metadata": {},
   "outputs": [
    {
     "data": {
      "image/png": "[encoded data removed]",
      "text/plain": [
       "<Figure size 432x288 with 1 Axes>"
      ]
     },
     "metadata": {
      "needs_background": "light"
     },
     "output_type": "display_data"
    }
   ],
   "source": [
    "plt.title('COSTS')\n",
    "plt.plot(COSTS,c='b')\n",
    "plt.show()"
   ]
  },
  {
   "cell_type": "code",
   "execution_count": null,
   "metadata": {},
   "outputs": [],
   "source": []
  }
 ],
 "metadata": {
  "kernelspec": {
   "display_name": "Python 3",
   "language": "python",
   "name": "python3"
  },
  "language_info": {
   "codemirror_mode": {
    "name": "ipython",
    "version": 3
   },
   "file_extension": ".py",
   "mimetype": "text/x-python",
   "name": "python",
   "nbconvert_exporter": "python",
   "pygments_lexer": "ipython3",
   "version": "3.7.6"
  }
 },
 "nbformat": 4,
 "nbformat_minor": 4
}
