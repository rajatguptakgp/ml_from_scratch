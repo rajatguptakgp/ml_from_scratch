{
 "cells": [
  {
   "cell_type": "code",
   "execution_count": 1,
   "metadata": {},
   "outputs": [],
   "source": [
    "import numpy as np\n",
    "import pandas as pd\n",
    "import matplotlib.pyplot as plt"
   ]
  },
  {
   "cell_type": "code",
   "execution_count": 2,
   "metadata": {},
   "outputs": [
    {
     "name": "stdout",
     "output_type": "stream",
     "text": [
      "[-23 -11  -8  -6  -5  -2   3   9  15  16  17]\n"
     ]
    },
    {
     "data": {
      "text/plain": [
       "-2"
      ]
     },
     "execution_count": 2,
     "metadata": {},
     "output_type": "execute_result"
    }
   ],
   "source": [
    "np.random.seed(1)\n",
    "data=np.round(10*np.random.normal(0,1,11),0).astype(int)\n",
    "\n",
    "print(np.sort(data))\n",
    "min_dev=1000\n",
    "median=data[0]\n",
    "\n",
    "for i in data:\n",
    "    iter_dev=sum(np.abs(data-i))\n",
    "    \n",
    "    if (iter_dev<min_dev):\n",
    "        min_dev=iter_dev\n",
    "        median=i\n",
    "    \n",
    "median"
   ]
  },
  {
   "cell_type": "code",
   "execution_count": 3,
   "metadata": {},
   "outputs": [
    {
     "data": {
      "text/html": [
       "<div>\n",
       "<style scoped>\n",
       "    .dataframe tbody tr th:only-of-type {\n",
       "        vertical-align: middle;\n",
       "    }\n",
       "\n",
       "    .dataframe tbody tr th {\n",
       "        vertical-align: top;\n",
       "    }\n",
       "\n",
       "    .dataframe thead th {\n",
       "        text-align: right;\n",
       "    }\n",
       "</style>\n",
       "<table border=\"1\" class=\"dataframe\">\n",
       "  <thead>\n",
       "    <tr style=\"text-align: right;\">\n",
       "      <th></th>\n",
       "      <th>X</th>\n",
       "      <th>Y</th>\n",
       "    </tr>\n",
       "  </thead>\n",
       "  <tbody>\n",
       "    <tr>\n",
       "      <th>0</th>\n",
       "      <td>-2.060141</td>\n",
       "      <td>0.315159</td>\n",
       "    </tr>\n",
       "    <tr>\n",
       "      <th>1</th>\n",
       "      <td>-0.322417</td>\n",
       "      <td>0.846161</td>\n",
       "    </tr>\n",
       "    <tr>\n",
       "      <th>2</th>\n",
       "      <td>-0.384054</td>\n",
       "      <td>-0.859516</td>\n",
       "    </tr>\n",
       "    <tr>\n",
       "      <th>3</th>\n",
       "      <td>1.133769</td>\n",
       "      <td>0.350546</td>\n",
       "    </tr>\n",
       "    <tr>\n",
       "      <th>4</th>\n",
       "      <td>-1.099891</td>\n",
       "      <td>-1.312283</td>\n",
       "    </tr>\n",
       "  </tbody>\n",
       "</table>\n",
       "</div>"
      ],
      "text/plain": [
       "          X         Y\n",
       "0 -2.060141  0.315159\n",
       "1 -0.322417  0.846161\n",
       "2 -0.384054 -0.859516\n",
       "3  1.133769  0.350546\n",
       "4 -1.099891 -1.312283"
      ]
     },
     "execution_count": 3,
     "metadata": {},
     "output_type": "execute_result"
    }
   ],
   "source": [
    "X=np.random.normal(0,1,100)\n",
    "Y=np.random.normal(0,1,100)\n",
    "\n",
    "df=pd.DataFrame(np.vstack((X,Y)).transpose(),columns=['X','Y'])\n",
    "df.head()"
   ]
  },
  {
   "cell_type": "code",
   "execution_count": 4,
   "metadata": {},
   "outputs": [],
   "source": [
    "def gradient(X,Y,w,b):\n",
    "    dw = sum((Y-w*X-b)*(-X)/np.abs(Y-w*X-b))\n",
    "    db = sum((Y-w*X-b)*(-1)/np.abs(Y-w*X-b))\n",
    "    return dw, db\n",
    "    \n",
    "def get_loss(X,Y,w,b):\n",
    "    return sum(np.abs(Y-w*X-b))\n",
    "\n",
    "def linear_regression(X,Y,w_init, b_init, alpha, beta, n_iterations):\n",
    "    \n",
    "    w=w_init\n",
    "    b=b_init\n",
    "    \n",
    "    W=[]\n",
    "    B=[]\n",
    "    COSTS=[]\n",
    "    for _ in range(n_iterations):\n",
    "        \n",
    "        dw, db = gradient(X,Y,w,b)\n",
    "        \n",
    "        w=w-alpha*dw\n",
    "        b=b-beta*db\n",
    "        \n",
    "        cost=get_loss(X,Y,w,b)\n",
    "        \n",
    "        W.append(w)\n",
    "        B.append(b)\n",
    "        COSTS.append(cost)\n",
    "        \n",
    "    return W, B, COSTS\n",
    "\n",
    "n_iterations=100\n",
    "w_init=np.random.normal(0,1,1)\n",
    "b_init=np.random.normal(0,1,1)\n",
    "alpha=10E-3\n",
    "beta=10E-3\n",
    "\n",
    "W, B, COSTS=linear_regression(X,Y,w_init, b_init, alpha, beta, n_iterations)"
   ]
  },
  {
   "cell_type": "code",
   "execution_count": 5,
   "metadata": {},
   "outputs": [
    {
     "data": {
      "image/png": "[encoded data removed]",
      "text/plain": [
       "<Figure size 1296x360 with 3 Axes>"
      ]
     },
     "metadata": {
      "needs_background": "light"
     },
     "output_type": "display_data"
    }
   ],
   "source": [
    "fig=plt.figure(figsize=(18,5))\n",
    "\n",
    "plt.subplot(131)\n",
    "plt.title('W')\n",
    "plt.plot(W,c='b')\n",
    "\n",
    "plt.subplot(132)\n",
    "plt.title('B')\n",
    "plt.plot(B,c='b')\n",
    "\n",
    "plt.subplot(133)\n",
    "plt.title('COSTS')\n",
    "plt.plot(COSTS,c='b')\n",
    "plt.show()"
   ]
  },
  {
   "cell_type": "code",
   "execution_count": null,
   "metadata": {},
   "outputs": [],
   "source": []
  }
 ],
 "metadata": {
  "kernelspec": {
   "display_name": "Python 3",
   "language": "python",
   "name": "python3"
  },
  "language_info": {
   "codemirror_mode": {
    "name": "ipython",
    "version": 3
   },
   "file_extension": ".py",
   "mimetype": "text/x-python",
   "name": "python",
   "nbconvert_exporter": "python",
   "pygments_lexer": "ipython3",
   "version": "3.7.6"
  }
 },
 "nbformat": 4,
 "nbformat_minor": 4
}
