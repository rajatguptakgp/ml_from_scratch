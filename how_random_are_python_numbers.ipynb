{
 "cells": [
  {
   "cell_type": "code",
   "execution_count": 1,
   "metadata": {},
   "outputs": [],
   "source": [
    "import numpy as np\n",
    "import pandas as pd\n",
    "from scipy import stats\n",
    "import matplotlib.pyplot as plt"
   ]
  },
  {
   "cell_type": "code",
   "execution_count": 2,
   "metadata": {},
   "outputs": [],
   "source": [
    "N=5000"
   ]
  },
  {
   "cell_type": "code",
   "execution_count": 3,
   "metadata": {},
   "outputs": [
    {
     "name": "stdout",
     "output_type": "stream",
     "text": [
      "   obs  exp\n",
      "0  506  500\n",
      "1  502  500\n",
      "2  478  500\n",
      "3  517  500\n",
      "4  490  500\n",
      "5  510  500\n",
      "6  502  500\n",
      "7  491  500\n",
      "8  506  500\n",
      "9  498  500\n",
      "\n",
      "**************************************************\n",
      "chisq:  2.276\n",
      "**************************************************\n",
      "p_value:  0.9863138756140731\n"
     ]
    }
   ],
   "source": [
    "np.random.seed(0)\n",
    "data=np.random.randint(0,10,N)\n",
    "\n",
    "count_dict={}\n",
    "\n",
    "for i in data:\n",
    "    if (count_dict.get(i,-1)<0):\n",
    "        count_dict[i]=1\n",
    "    else:\n",
    "        count_dict[i]+=1\n",
    "        \n",
    "nums=list(count_dict.keys())\n",
    "nums.sort()\n",
    "\n",
    "count_dict={i:count_dict[i] for i in nums}\n",
    "\n",
    "observed_freq=list(count_dict.values())\n",
    "expected_freq=[int(N/10)]*10\n",
    "\n",
    "df=pd.DataFrame(np.vstack((observed_freq,expected_freq)).transpose(),columns=['obs','exp'])\n",
    "print(df)\n",
    "\n",
    "print()\n",
    "print('*'*50)\n",
    "chisq=sum((df.obs-df.exp)**2/df.exp)\n",
    "print('chisq: ', chisq)\n",
    "\n",
    "p_value=1-stats.chi2.cdf(chisq , 9)\n",
    "print('*'*50)\n",
    "print('p_value: ', p_value)"
   ]
  },
  {
   "cell_type": "code",
   "execution_count": null,
   "metadata": {},
   "outputs": [],
   "source": []
  }
 ],
 "metadata": {
  "kernelspec": {
   "display_name": "Python 3",
   "language": "python",
   "name": "python3"
  },
  "language_info": {
   "codemirror_mode": {
    "name": "ipython",
    "version": 3
   },
   "file_extension": ".py",
   "mimetype": "text/x-python",
   "name": "python",
   "nbconvert_exporter": "python",
   "pygments_lexer": "ipython3",
   "version": "3.7.6"
  }
 },
 "nbformat": 4,
 "nbformat_minor": 4
}
