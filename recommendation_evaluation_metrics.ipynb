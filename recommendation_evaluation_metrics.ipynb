{
 "cells": [
  {
   "cell_type": "code",
   "execution_count": 1,
   "metadata": {},
   "outputs": [],
   "source": [
    "import numpy as np\n",
    "import pandas as pd"
   ]
  },
  {
   "cell_type": "code",
   "execution_count": 2,
   "metadata": {},
   "outputs": [],
   "source": [
    "N_USERS = 500\n",
    "N_MOVIES = 1000\n",
    "N_RELEVANT_MOVIES = 200\n",
    "MAX_RATING = 5\n",
    "MIN_RATING = 1\n",
    "\n",
    "class ratings_data:\n",
    "    \n",
    "    def __init__(self, n_users, n_movies, n_relevant_movies, min_rating, max_rating):\n",
    "        self.n_users = n_users\n",
    "        self.n_movies = n_movies\n",
    "        self.n_relevant_movies = n_relevant_movies\n",
    "        self.min_rating = min_rating\n",
    "        self.max_rating = max_rating\n",
    "        \n",
    "    def make_predictions(self):\n",
    "        predicted = np.arange(self.n_movies)\n",
    "        np.random.shuffle(predicted)\n",
    "        \n",
    "        return predicted\n",
    "    \n",
    "    def make_actual(self):\n",
    "        actual = np.random.choice(np.arange(self.n_movies), self.n_relevant_movies)\n",
    "        \n",
    "        return actual\n",
    "    \n",
    "    def give_ratings(self):\n",
    "        return np.random.choice(np.arange(self.min_rating, self.max_rating+1), self.n_relevant_movies)\n",
    "    \n",
    "    def make_data(self):\n",
    "        actuals = np.array(list(map(lambda x: dataset.make_actual(), range(self.n_users))))\n",
    "        predictions = np.array(list(map(lambda x: dataset.make_predictions(), range(self.n_users))))\n",
    "        ratings = np.array(list(map(lambda x: dataset.give_ratings(), range(self.n_users))))\n",
    "        return actuals, predictions, ratings\n",
    "    \n",
    "    \n",
    "dataset = ratings_data(N_USERS, N_MOVIES, N_RELEVANT_MOVIES, MIN_RATING, MAX_RATING)"
   ]
  },
  {
   "cell_type": "code",
   "execution_count": 3,
   "metadata": {},
   "outputs": [
    {
     "data": {
      "text/plain": [
       "((500, 200), (500, 1000), (500, 200))"
      ]
     },
     "execution_count": 3,
     "metadata": {},
     "output_type": "execute_result"
    }
   ],
   "source": [
    "gt, predictions, ratings = dataset.make_data()\n",
    "\n",
    "gt.shape, predictions.shape, ratings.shape"
   ]
  },
  {
   "cell_type": "markdown",
   "metadata": {},
   "source": [
    "### Order unaware metrics:\n",
    "\n",
    "1. Hit@K\n",
    "2. Precision@K\n",
    "3. Recall@K\n",
    "4. F1@K"
   ]
  },
  {
   "cell_type": "code",
   "execution_count": 4,
   "metadata": {},
   "outputs": [],
   "source": [
    "def hit_k(act, pred, k):\n",
    "    act_set = set(act)\n",
    "    pred_set = set(pred[:k])\n",
    "    \n",
    "    common_set = act_set & pred_set\n",
    "    \n",
    "    if (len(common_set)>0):\n",
    "        return 1\n",
    "    else:\n",
    "        return 0\n",
    "    \n",
    "def precision_k(act, pred, k):\n",
    "    act_set = set(act)\n",
    "    pred_set = set(pred[:k])\n",
    "    \n",
    "    common_set = act_set & pred_set\n",
    "    \n",
    "    if len(pred_set)==0:\n",
    "        return 0\n",
    "    else:\n",
    "        return len(common_set) / len(pred_set)\n",
    "\n",
    "def recall_k(act, pred, k):\n",
    "    act_set = set(act)\n",
    "    pred_set = set(pred[:k])\n",
    "    \n",
    "    common_set = act_set & pred_set\n",
    "    \n",
    "    if len(act_set)==0:\n",
    "        return 0\n",
    "    else:\n",
    "        return len(common_set) / len(act_set)"
   ]
  },
  {
   "cell_type": "code",
   "execution_count": 5,
   "metadata": {
    "scrolled": true
   },
   "outputs": [
    {
     "data": {
      "text/plain": [
       "0.3333333333333333"
      ]
     },
     "execution_count": 5,
     "metadata": {},
     "output_type": "execute_result"
    }
   ],
   "source": [
    "#example\n",
    "\n",
    "actual = [['A', 'B', 'X'], ['A', 'B', 'Y']]\n",
    "\n",
    "predicted = [['X', 'Y', 'Z'], ['X', 'Y', 'Z']]\n",
    "\n",
    "np.mean(list(map(lambda x,y : precision_k(x, y, len(y)), actual, predicted)))"
   ]
  },
  {
   "cell_type": "code",
   "execution_count": 6,
   "metadata": {},
   "outputs": [],
   "source": [
    "K = [10,20,50,100,200,500]\n",
    "\n",
    "hits={}\n",
    "prec={}\n",
    "rec={}\n",
    "\n",
    "for k in K:\n",
    "    hits[k] = np.mean(list(map(lambda x, y: hit_k(x, y, k), gt, predictions)))\n",
    "    prec[k] = np.mean(list(map(lambda x, y: precision_k(x, y, k), gt, predictions)))\n",
    "    rec[k] = np.mean(list(map(lambda x, y: recall_k(x, y, k), gt, predictions)))"
   ]
  },
  {
   "cell_type": "code",
   "execution_count": 7,
   "metadata": {},
   "outputs": [
    {
     "data": {
      "text/html": [
       "<div>\n",
       "<style scoped>\n",
       "    .dataframe tbody tr th:only-of-type {\n",
       "        vertical-align: middle;\n",
       "    }\n",
       "\n",
       "    .dataframe tbody tr th {\n",
       "        vertical-align: top;\n",
       "    }\n",
       "\n",
       "    .dataframe thead th {\n",
       "        text-align: right;\n",
       "    }\n",
       "</style>\n",
       "<table border=\"1\" class=\"dataframe\">\n",
       "  <thead>\n",
       "    <tr style=\"text-align: right;\">\n",
       "      <th></th>\n",
       "      <th>Hit_Ratio@K</th>\n",
       "      <th>Precision@K</th>\n",
       "      <th>Recall@K</th>\n",
       "      <th>F1@K</th>\n",
       "    </tr>\n",
       "  </thead>\n",
       "  <tbody>\n",
       "    <tr>\n",
       "      <th>10</th>\n",
       "      <td>0.858</td>\n",
       "      <td>0.18120</td>\n",
       "      <td>0.009987</td>\n",
       "      <td>0.018931</td>\n",
       "    </tr>\n",
       "    <tr>\n",
       "      <th>20</th>\n",
       "      <td>0.988</td>\n",
       "      <td>0.18060</td>\n",
       "      <td>0.019905</td>\n",
       "      <td>0.035858</td>\n",
       "    </tr>\n",
       "    <tr>\n",
       "      <th>50</th>\n",
       "      <td>1.000</td>\n",
       "      <td>0.17836</td>\n",
       "      <td>0.049133</td>\n",
       "      <td>0.077043</td>\n",
       "    </tr>\n",
       "    <tr>\n",
       "      <th>100</th>\n",
       "      <td>1.000</td>\n",
       "      <td>0.17998</td>\n",
       "      <td>0.099172</td>\n",
       "      <td>0.127880</td>\n",
       "    </tr>\n",
       "    <tr>\n",
       "      <th>200</th>\n",
       "      <td>1.000</td>\n",
       "      <td>0.17939</td>\n",
       "      <td>0.197725</td>\n",
       "      <td>0.188112</td>\n",
       "    </tr>\n",
       "    <tr>\n",
       "      <th>500</th>\n",
       "      <td>1.000</td>\n",
       "      <td>0.18086</td>\n",
       "      <td>0.498308</td>\n",
       "      <td>0.265395</td>\n",
       "    </tr>\n",
       "  </tbody>\n",
       "</table>\n",
       "</div>"
      ],
      "text/plain": [
       "     Hit_Ratio@K  Precision@K  Recall@K      F1@K\n",
       "10         0.858      0.18120  0.009987  0.018931\n",
       "20         0.988      0.18060  0.019905  0.035858\n",
       "50         1.000      0.17836  0.049133  0.077043\n",
       "100        1.000      0.17998  0.099172  0.127880\n",
       "200        1.000      0.17939  0.197725  0.188112\n",
       "500        1.000      0.18086  0.498308  0.265395"
      ]
     },
     "execution_count": 7,
     "metadata": {},
     "output_type": "execute_result"
    }
   ],
   "source": [
    "result = pd.DataFrame(index=K, columns=['Hit_Ratio@K','Precision@K','Recall@K'])\n",
    "\n",
    "result['Hit_Ratio@K'] = hits.values()\n",
    "result['Precision@K'] = prec.values()\n",
    "result['Recall@K'] = rec.values()\n",
    "result['F1@K'] = 2 * result['Precision@K'] * result['Recall@K'] / (result['Precision@K'] + result['Recall@K'])\n",
    "\n",
    "result"
   ]
  },
  {
   "cell_type": "markdown",
   "metadata": {},
   "source": [
    "### Order aware metrics:\n",
    "\n",
    "1. NDCG@K\n",
    "2. MRR\n",
    "3. MAP"
   ]
  },
  {
   "cell_type": "code",
   "execution_count": 8,
   "metadata": {
    "scrolled": true
   },
   "outputs": [],
   "source": [
    "def dcg_k(act, pred, rating, k):\n",
    "    act_set = set(act)\n",
    "    pred_set = set(pred[:k])\n",
    "    \n",
    "    common_set = act_set & pred_set    \n",
    "    \n",
    "    movie_rating_map = dict(zip(act, rating))\n",
    "    \n",
    "    return sum(map(lambda x: movie_rating_map[x] / np.log2(np.where(pred[:k]==x)[0][0]+2), list(common_set)))\n",
    "\n",
    "def idcg_k(rating, k):\n",
    "    rating.sort()\n",
    "    \n",
    "    return sum(map(lambda x, y: x / np.log2(y+2), rating[::-1][:k], range(k)))\n",
    "\n",
    "def ndcg_k(act, pred, rating, k):\n",
    "    return dcg_k(act, pred, rating, k) / idcg_k(rating, k)"
   ]
  },
  {
   "cell_type": "code",
   "execution_count": 9,
   "metadata": {},
   "outputs": [
    {
     "data": {
      "text/html": [
       "<div>\n",
       "<style scoped>\n",
       "    .dataframe tbody tr th:only-of-type {\n",
       "        vertical-align: middle;\n",
       "    }\n",
       "\n",
       "    .dataframe tbody tr th {\n",
       "        vertical-align: top;\n",
       "    }\n",
       "\n",
       "    .dataframe thead th {\n",
       "        text-align: right;\n",
       "    }\n",
       "</style>\n",
       "<table border=\"1\" class=\"dataframe\">\n",
       "  <thead>\n",
       "    <tr style=\"text-align: right;\">\n",
       "      <th></th>\n",
       "      <th>Hit_Ratio@K</th>\n",
       "      <th>Precision@K</th>\n",
       "      <th>Recall@K</th>\n",
       "      <th>F1@K</th>\n",
       "      <th>NDCG@K</th>\n",
       "    </tr>\n",
       "  </thead>\n",
       "  <tbody>\n",
       "    <tr>\n",
       "      <th>10</th>\n",
       "      <td>0.858</td>\n",
       "      <td>0.18120</td>\n",
       "      <td>0.009987</td>\n",
       "      <td>0.018931</td>\n",
       "      <td>0.108147</td>\n",
       "    </tr>\n",
       "    <tr>\n",
       "      <th>20</th>\n",
       "      <td>0.988</td>\n",
       "      <td>0.18060</td>\n",
       "      <td>0.019905</td>\n",
       "      <td>0.035858</td>\n",
       "      <td>0.111873</td>\n",
       "    </tr>\n",
       "    <tr>\n",
       "      <th>50</th>\n",
       "      <td>1.000</td>\n",
       "      <td>0.17836</td>\n",
       "      <td>0.049133</td>\n",
       "      <td>0.077043</td>\n",
       "      <td>0.113986</td>\n",
       "    </tr>\n",
       "    <tr>\n",
       "      <th>100</th>\n",
       "      <td>1.000</td>\n",
       "      <td>0.17998</td>\n",
       "      <td>0.099172</td>\n",
       "      <td>0.127880</td>\n",
       "      <td>0.127026</td>\n",
       "    </tr>\n",
       "    <tr>\n",
       "      <th>200</th>\n",
       "      <td>1.000</td>\n",
       "      <td>0.17939</td>\n",
       "      <td>0.197725</td>\n",
       "      <td>0.188112</td>\n",
       "      <td>0.164152</td>\n",
       "    </tr>\n",
       "    <tr>\n",
       "      <th>500</th>\n",
       "      <td>1.000</td>\n",
       "      <td>0.18086</td>\n",
       "      <td>0.498308</td>\n",
       "      <td>0.265395</td>\n",
       "      <td>0.335024</td>\n",
       "    </tr>\n",
       "  </tbody>\n",
       "</table>\n",
       "</div>"
      ],
      "text/plain": [
       "     Hit_Ratio@K  Precision@K  Recall@K      F1@K    NDCG@K\n",
       "10         0.858      0.18120  0.009987  0.018931  0.108147\n",
       "20         0.988      0.18060  0.019905  0.035858  0.111873\n",
       "50         1.000      0.17836  0.049133  0.077043  0.113986\n",
       "100        1.000      0.17998  0.099172  0.127880  0.127026\n",
       "200        1.000      0.17939  0.197725  0.188112  0.164152\n",
       "500        1.000      0.18086  0.498308  0.265395  0.335024"
      ]
     },
     "execution_count": 9,
     "metadata": {},
     "output_type": "execute_result"
    }
   ],
   "source": [
    "ndcg = {}\n",
    "\n",
    "for k in K:\n",
    "    ndcg[k] = np.mean(list(map(lambda x, y, z: ndcg_k(x, y, z, k), gt, predictions, ratings)))\n",
    "    \n",
    "result['NDCG@K'] = ndcg.values()\n",
    "result"
   ]
  },
  {
   "cell_type": "code",
   "execution_count": 10,
   "metadata": {},
   "outputs": [
    {
     "data": {
      "text/plain": [
       "0.38042035807890234"
      ]
     },
     "execution_count": 10,
     "metadata": {},
     "output_type": "execute_result"
    }
   ],
   "source": [
    "def mean_reciprocal_rank(gt, predictions):\n",
    "\n",
    "    def find_reciprocal_rank(act, pred):\n",
    "        for p in pred:\n",
    "            if (p in act):\n",
    "                rank = np.where(pred==p)[0][0] + 1\n",
    "                return 1/rank\n",
    "\n",
    "    return np.mean(list(map(lambda x, y: find_reciprocal_rank(x, y), gt, predictions)))\n",
    "\n",
    "mean_reciprocal_rank(gt, predictions)"
   ]
  },
  {
   "cell_type": "code",
   "execution_count": 11,
   "metadata": {
    "scrolled": true
   },
   "outputs": [
    {
     "data": {
      "text/plain": [
       "0.00018382340095863015"
      ]
     },
     "execution_count": 11,
     "metadata": {},
     "output_type": "execute_result"
    }
   ],
   "source": [
    "def mean_average_precision(gt, predictions):\n",
    "\n",
    "    def average_precision(act, pred):\n",
    "        return np.mean(list(map(lambda k: (act[k] == pred[k]) * precision_k(act, pred, k), range(len(act)))))\n",
    "    \n",
    "    return np.mean(list(map(lambda x,y: average_precision(x,y), gt, predictions)))\n",
    "\n",
    "mean_average_precision(gt, predictions)"
   ]
  },
  {
   "cell_type": "code",
   "execution_count": null,
   "metadata": {},
   "outputs": [],
   "source": []
  }
 ],
 "metadata": {
  "kernelspec": {
   "display_name": "Python 3",
   "language": "python",
   "name": "python3"
  },
  "language_info": {
   "codemirror_mode": {
    "name": "ipython",
    "version": 3
   },
   "file_extension": ".py",
   "mimetype": "text/x-python",
   "name": "python",
   "nbconvert_exporter": "python",
   "pygments_lexer": "ipython3",
   "version": "3.8.5"
  }
 },
 "nbformat": 4,
 "nbformat_minor": 4
}
