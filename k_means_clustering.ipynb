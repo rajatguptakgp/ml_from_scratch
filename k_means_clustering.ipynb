{
 "cells": [
  {
   "cell_type": "code",
   "execution_count": 1,
   "metadata": {},
   "outputs": [],
   "source": [
    "import numpy as np\n",
    "import pandas as pd\n",
    "import matplotlib.pyplot as plt"
   ]
  },
  {
   "cell_type": "code",
   "execution_count": 2,
   "metadata": {},
   "outputs": [],
   "source": [
    "def calculate_variance(cluster):\n",
    "    variance=0\n",
    "    \n",
    "    for i in cluster:\n",
    "        variance+=(i-np.mean(cluster))**2\n",
    "        \n",
    "    return variance\n",
    "\n",
    "def k_means_clustering(data,K):\n",
    "\n",
    "    init_clusters=np.random.choice(data,K,replace=False)\n",
    "\n",
    "    for i in range(K):\n",
    "        vars()[f'cluster_{i+1}']=[init_clusters[i]]\n",
    "\n",
    "    for i in data:\n",
    "        if i not in init_clusters:\n",
    "            dist=[]\n",
    "\n",
    "            for j in range(K):\n",
    "                dist.append(abs(i-np.mean(vars()[f'cluster_{j+1}'])))\n",
    "\n",
    "            idx=dist.index(min(dist))\n",
    "\n",
    "            vars()[f'cluster_{idx+1}'].append(i)\n",
    "\n",
    "    total_variance=0\n",
    "    CLUSTERS=[]\n",
    "    \n",
    "    for i in range(K):\n",
    "        total_variance+=calculate_variance(vars()[f'cluster_{i+1}'])\n",
    "        CLUSTERS.append(vars()[f'cluster_{i+1}'])\n",
    "        \n",
    "    return total_variance, CLUSTERS"
   ]
  },
  {
   "cell_type": "code",
   "execution_count": 3,
   "metadata": {},
   "outputs": [
    {
     "data": {
      "text/plain": [
       "[[898], [79, 68, 150, 78, 57, 90, 113], [9, 2, 6, 4, 5, 12, 34]]"
      ]
     },
     "execution_count": 3,
     "metadata": {},
     "output_type": "execute_result"
    }
   ],
   "source": [
    "N_RUNS=100\n",
    "\n",
    "min_variance=10000000000\n",
    "CLUSTERS_MAIN=[]\n",
    "\n",
    "data=[2,6,4,5,9,12,68,79,150,898,34,78,57,90,113]\n",
    "K=3\n",
    "\n",
    "for _ in range(N_RUNS):\n",
    "    iter_variance, iter_clusters = k_means_clustering(data,K)\n",
    "    \n",
    "    if (iter_variance<min_variance):\n",
    "        min_variance=iter_variance\n",
    "        CLUSTERS_MAIN=iter_clusters\n",
    "        \n",
    "CLUSTERS_MAIN"
   ]
  },
  {
   "cell_type": "code",
   "execution_count": 4,
   "metadata": {},
   "outputs": [
    {
     "data": {
      "text/plain": [
       "[[56, 34, 57], [12, 2, 6, 4, 5, 9, 14], [90, 78, 113]]"
      ]
     },
     "execution_count": 4,
     "metadata": {},
     "output_type": "execute_result"
    }
   ],
   "source": [
    "[[56, 34, 57], [12, 2, 6, 4, 5, 9, 14], [90, 78, 113]]"
   ]
  },
  {
   "cell_type": "code",
   "execution_count": 5,
   "metadata": {},
   "outputs": [
    {
     "data": {
      "image/png": "[encoded data removed]",
      "text/plain": [
       "<Figure size 432x288 with 1 Axes>"
      ]
     },
     "metadata": {
      "needs_background": "light"
     },
     "output_type": "display_data"
    }
   ],
   "source": [
    "X1=np.random.normal(0,1,50)\n",
    "Y1=np.random.normal(0,1,50)\n",
    "\n",
    "X2=np.random.normal(6,2,50)\n",
    "Y2=np.random.normal(6,2,50)\n",
    "\n",
    "plt.scatter(X1,Y1)\n",
    "plt.scatter(X2,Y2)\n",
    "plt.scatter(X1,Y2)\n",
    "plt.scatter(X2,Y1)\n",
    "\n",
    "plt.show()"
   ]
  },
  {
   "cell_type": "code",
   "execution_count": 6,
   "metadata": {},
   "outputs": [
    {
     "data": {
      "text/html": [
       "<div>\n",
       "<style scoped>\n",
       "    .dataframe tbody tr th:only-of-type {\n",
       "        vertical-align: middle;\n",
       "    }\n",
       "\n",
       "    .dataframe tbody tr th {\n",
       "        vertical-align: top;\n",
       "    }\n",
       "\n",
       "    .dataframe thead th {\n",
       "        text-align: right;\n",
       "    }\n",
       "</style>\n",
       "<table border=\"1\" class=\"dataframe\">\n",
       "  <thead>\n",
       "    <tr style=\"text-align: right;\">\n",
       "      <th></th>\n",
       "      <th>X</th>\n",
       "      <th>Y</th>\n",
       "    </tr>\n",
       "  </thead>\n",
       "  <tbody>\n",
       "    <tr>\n",
       "      <th>0</th>\n",
       "      <td>0.252661</td>\n",
       "      <td>0.291290</td>\n",
       "    </tr>\n",
       "    <tr>\n",
       "      <th>1</th>\n",
       "      <td>-0.686099</td>\n",
       "      <td>-1.236916</td>\n",
       "    </tr>\n",
       "    <tr>\n",
       "      <th>2</th>\n",
       "      <td>0.174650</td>\n",
       "      <td>-1.770489</td>\n",
       "    </tr>\n",
       "    <tr>\n",
       "      <th>3</th>\n",
       "      <td>-0.858156</td>\n",
       "      <td>-0.078810</td>\n",
       "    </tr>\n",
       "    <tr>\n",
       "      <th>4</th>\n",
       "      <td>-0.542972</td>\n",
       "      <td>-0.351152</td>\n",
       "    </tr>\n",
       "  </tbody>\n",
       "</table>\n",
       "</div>"
      ],
      "text/plain": [
       "          X         Y\n",
       "0  0.252661  0.291290\n",
       "1 -0.686099 -1.236916\n",
       "2  0.174650 -1.770489\n",
       "3 -0.858156 -0.078810\n",
       "4 -0.542972 -0.351152"
      ]
     },
     "execution_count": 6,
     "metadata": {},
     "output_type": "execute_result"
    }
   ],
   "source": [
    "df1=pd.DataFrame(np.vstack((X1,Y1)).transpose(), columns=['X','Y'])\n",
    "df2=pd.DataFrame(np.vstack((X2,Y2)).transpose(), columns=['X','Y'])\n",
    "df3=pd.DataFrame(np.vstack((X1,Y2)).transpose(), columns=['X','Y'])\n",
    "df4=pd.DataFrame(np.vstack((X2,Y1)).transpose(), columns=['X','Y'])\n",
    "\n",
    "df=pd.concat([df1,df2,df3,df4],axis='rows').reset_index(drop=True)\n",
    "df.head()"
   ]
  },
  {
   "cell_type": "code",
   "execution_count": 7,
   "metadata": {},
   "outputs": [],
   "source": [
    "def calculate_variance(cluster):\n",
    "    xc_mean=np.mean(cluster[:,0])\n",
    "    yc_mean=np.mean(cluster[:,1])\n",
    "    \n",
    "    variance=0\n",
    "    for i in cluster:\n",
    "        variance+=(i[0]-xc_mean)**2+(i[1]-yc_mean)**2\n",
    "        \n",
    "    return variance\n",
    "\n",
    "def k_means_clustering(df,K):\n",
    "    cluster_idx=np.random.choice(np.arange(len(df)),K,replace=False)\n",
    "    for i,v in enumerate(cluster_idx):\n",
    "        vars()[f'cluster_{i+1}']=df.loc[v].values.reshape(1,-1)\n",
    "\n",
    "    for i in range(len(df)):\n",
    "        if (i not in cluster_idx):\n",
    "\n",
    "            dist=[]\n",
    "\n",
    "            x=df.loc[i].values[0]\n",
    "            y=df.loc[i].values[1]\n",
    "\n",
    "            for j in range(K):\n",
    "                \n",
    "                xc_mean=np.mean(vars()[f'cluster_{j+1}'][:,0])\n",
    "                yc_mean=np.mean(vars()[f'cluster_{j+1}'][:,1])\n",
    "\n",
    "                dist.append(np.sqrt((x-xc_mean)**2+(y-yc_mean)**2))\n",
    "\n",
    "            idx=dist.index(min(dist))\n",
    "\n",
    "            vars()[f'cluster_{idx+1}'] = np.vstack((vars()[f'cluster_{idx+1}'],df.loc[i].values))\n",
    "\n",
    "    total_variance=0\n",
    "    CLUSTERS=[]\n",
    "    \n",
    "    for j in range(K):\n",
    "        total_variance+=calculate_variance(vars()[f'cluster_{j+1}'])\n",
    "        CLUSTERS.append(vars()[f'cluster_{j+1}'])\n",
    "        \n",
    "    return total_variance, CLUSTERS"
   ]
  },
  {
   "cell_type": "code",
   "execution_count": 8,
   "metadata": {
    "scrolled": true
   },
   "outputs": [
    {
     "data": {
      "text/plain": [
       "895.1627849552344"
      ]
     },
     "execution_count": 8,
     "metadata": {},
     "output_type": "execute_result"
    }
   ],
   "source": [
    "K=4\n",
    "\n",
    "N_RUNS=100\n",
    "\n",
    "min_variance=100000000\n",
    "CLUSTERS_MAIN=[]\n",
    "\n",
    "for _ in range(N_RUNS):\n",
    "    iter_variance, iter_clusters=k_means_clustering(df,K)\n",
    "    \n",
    "    if (iter_variance<min_variance):\n",
    "        min_variance=iter_variance\n",
    "        CLUSTERS_MAIN=iter_clusters\n",
    "        \n",
    "min_variance"
   ]
  },
  {
   "cell_type": "code",
   "execution_count": 9,
   "metadata": {},
   "outputs": [
    {
     "data": {
      "image/png": "[encoded data removed]",
      "text/plain": [
       "<Figure size 432x288 with 1 Axes>"
      ]
     },
     "metadata": {
      "needs_background": "light"
     },
     "output_type": "display_data"
    }
   ],
   "source": [
    "for c in CLUSTERS_MAIN:\n",
    "    X=c[:,0]\n",
    "    Y=c[:,1]\n",
    "    \n",
    "    plt.scatter(X,Y)\n",
    "    \n",
    "plt.show()"
   ]
  },
  {
   "cell_type": "code",
   "execution_count": null,
   "metadata": {},
   "outputs": [],
   "source": []
  }
 ],
 "metadata": {
  "kernelspec": {
   "display_name": "Python 3",
   "language": "python",
   "name": "python3"
  },
  "language_info": {
   "codemirror_mode": {
    "name": "ipython",
    "version": 3
   },
   "file_extension": ".py",
   "mimetype": "text/x-python",
   "name": "python",
   "nbconvert_exporter": "python",
   "pygments_lexer": "ipython3",
   "version": "3.7.6"
  }
 },
 "nbformat": 4,
 "nbformat_minor": 4
}
