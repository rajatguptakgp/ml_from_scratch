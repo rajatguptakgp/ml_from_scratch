{
 "cells": [
  {
   "cell_type": "code",
   "execution_count": 33,
   "metadata": {},
   "outputs": [],
   "source": [
    "import numpy as np\n",
    "import pandas as pd\n",
    "import matplotlib.pyplot as plt"
   ]
  },
  {
   "cell_type": "code",
   "execution_count": 36,
   "metadata": {},
   "outputs": [],
   "source": [
    "n_iterations=10\n",
    "\n",
    "N_RUNS=20\n",
    "\n",
    "PATH=[]\n",
    "\n",
    "for run in range(N_RUNS):\n",
    "    path=[]\n",
    "    \n",
    "    X_covered=0\n",
    "    Y_covered=0\n",
    "    for n_iter in range(n_iterations):\n",
    "        choice=np.random.choice(['N','S','W','E'])\n",
    "\n",
    "        if (choice=='N'):\n",
    "            Y_covered+=1\n",
    "            \n",
    "        elif (choice=='S'):\n",
    "            Y_covered-=1\n",
    "            \n",
    "        elif (choice=='W'):\n",
    "            X_covered-=1\n",
    "        else:\n",
    "            X_covered+=1\n",
    "\n",
    "        path.append([X_covered,Y_covered])\n",
    "\n",
    "    PATH.append(np.array(path))"
   ]
  },
  {
   "cell_type": "code",
   "execution_count": 37,
   "metadata": {},
   "outputs": [
    {
     "data": {
      "image/png": "[encoded data removed]",
      "text/plain": [
       "<Figure size 432x288 with 1 Axes>"
      ]
     },
     "metadata": {
      "needs_background": "light"
     },
     "output_type": "display_data"
    }
   ],
   "source": [
    "for i in range(N_RUNS):\n",
    "\n",
    "    X=PATH[i][:,0]\n",
    "    Y=PATH[i][:,1]\n",
    "\n",
    "    plt.plot(X,Y)\n",
    "plt.show()"
   ]
  },
  {
   "cell_type": "code",
   "execution_count": 43,
   "metadata": {},
   "outputs": [
    {
     "name": "stdout",
     "output_type": "stream",
     "text": [
      "Distance:  7.0710678118654755\n",
      "Distance:  8.94427190999916\n",
      "Distance:  10.0\n",
      "Distance:  5.830951894845301\n",
      "Distance:  2.0\n",
      "Distance:  6.324555320336759\n",
      "Distance:  12.165525060596439\n",
      "Distance:  8.48528137423857\n",
      "Distance:  9.486832980505138\n",
      "Distance:  13.92838827718412\n"
     ]
    }
   ],
   "source": [
    "def random_walk(N):\n",
    "\n",
    "    X_covered=0\n",
    "    Y_covered=0\n",
    "    for n_iter in range(N):\n",
    "        choice=np.random.choice(['N','S','W','E'])\n",
    "\n",
    "        if (choice=='N'):\n",
    "            Y_covered+=1\n",
    "\n",
    "        elif (choice=='S'):\n",
    "            Y_covered-=1\n",
    "\n",
    "        elif (choice=='W'):\n",
    "            X_covered-=1\n",
    "        else:\n",
    "            X_covered+=1\n",
    "    \n",
    "    dist=np.sqrt((X_covered)**2+(Y_covered)**2)\n",
    "    return dist\n",
    "    \n",
    "N_RUNS=10\n",
    "for i in range(N_RUNS):\n",
    "    print('Distance: ', random_walk(100))"
   ]
  },
  {
   "cell_type": "markdown",
   "metadata": {},
   "source": [
    "**What is the expected distance between bottom-left corner and top-right corner on a chess board, if one walks in orthogonal directions?**"
   ]
  },
  {
   "cell_type": "code",
   "execution_count": 90,
   "metadata": {},
   "outputs": [],
   "source": [
    "N_RUNS=1000\n",
    "\n",
    "PATH=[]\n",
    "N_STEPS=[]\n",
    "for run in range(N_RUNS):\n",
    "    x=0\n",
    "    y=0\n",
    "    path=[[0,0]]\n",
    "    count=0\n",
    "    while ((x!=8) or (y!=8)):\n",
    "        if (x==8):\n",
    "            y=8\n",
    "\n",
    "        elif (y==8):\n",
    "            x=8\n",
    "\n",
    "        else:\n",
    "            choice=np.random.choice(['N','E'])\n",
    "\n",
    "            if (choice=='N'):\n",
    "                y+=1\n",
    "            else:\n",
    "                x+=1\n",
    "                \n",
    "        path.append([x,y])\n",
    "        count+=1\n",
    "        \n",
    "    PATH.append(np.array(path))\n",
    "    N_STEPS.append(count)"
   ]
  },
  {
   "cell_type": "code",
   "execution_count": 91,
   "metadata": {},
   "outputs": [
    {
     "data": {
      "image/png": "[encoded data removed]",
      "text/plain": [
       "<Figure size 432x288 with 1 Axes>"
      ]
     },
     "metadata": {
      "needs_background": "light"
     },
     "output_type": "display_data"
    }
   ],
   "source": [
    "for i in range(N_RUNS):\n",
    "\n",
    "    X=PATH[i][:,0]\n",
    "    Y=PATH[i][:,1]\n",
    "\n",
    "    plt.plot(X,Y)\n",
    "    \n",
    "plt.show()"
   ]
  },
  {
   "cell_type": "code",
   "execution_count": 92,
   "metadata": {},
   "outputs": [
    {
     "data": {
      "text/plain": [
       "13.864"
      ]
     },
     "execution_count": 92,
     "metadata": {},
     "output_type": "execute_result"
    }
   ],
   "source": [
    "np.mean(np.array(N_STEPS))"
   ]
  },
  {
   "cell_type": "code",
   "execution_count": null,
   "metadata": {},
   "outputs": [],
   "source": []
  }
 ],
 "metadata": {
  "kernelspec": {
   "display_name": "Python 3",
   "language": "python",
   "name": "python3"
  },
  "language_info": {
   "codemirror_mode": {
    "name": "ipython",
    "version": 3
   },
   "file_extension": ".py",
   "mimetype": "text/x-python",
   "name": "python",
   "nbconvert_exporter": "python",
   "pygments_lexer": "ipython3",
   "version": "3.7.6"
  }
 },
 "nbformat": 4,
 "nbformat_minor": 4
}
