{
 "cells": [
  {
   "cell_type": "code",
   "execution_count": 1,
   "metadata": {},
   "outputs": [],
   "source": [
    "import numpy as np\n",
    "import pandas as pd\n",
    "\n",
    "from tqdm import tqdm"
   ]
  },
  {
   "cell_type": "code",
   "execution_count": 2,
   "metadata": {},
   "outputs": [],
   "source": [
    "ratings = pd.DataFrame([[1,2,8,9,3,3],[2,1,9,8,4,2],[2,2,6,8,2,3],[9,7,2,3,1,1],\n",
    "                   [1,1,1,2,8,7],[2,2,3,2,8,8],[7,9,2,2,2,3],[9,8,2,3,1,3]])\n",
    "\n",
    "users = np.array([\"u0\",\"u1\",\"u2\",\"u3\",\"u4\",\"u5\",\"u6\",\"u7\"])\n",
    "movies = np.array([\"horror1\",\"horror2\",\"drama1\",\"drama2\",\"art1\",\"art2\"])\n",
    "\n",
    "ratings.columns = movies\n",
    "ratings.index = users"
   ]
  },
  {
   "cell_type": "code",
   "execution_count": 3,
   "metadata": {},
   "outputs": [
    {
     "data": {
      "text/html": [
       "<div>\n",
       "<style scoped>\n",
       "    .dataframe tbody tr th:only-of-type {\n",
       "        vertical-align: middle;\n",
       "    }\n",
       "\n",
       "    .dataframe tbody tr th {\n",
       "        vertical-align: top;\n",
       "    }\n",
       "\n",
       "    .dataframe thead th {\n",
       "        text-align: right;\n",
       "    }\n",
       "</style>\n",
       "<table border=\"1\" class=\"dataframe\">\n",
       "  <thead>\n",
       "    <tr style=\"text-align: right;\">\n",
       "      <th></th>\n",
       "      <th>horror1</th>\n",
       "      <th>horror2</th>\n",
       "      <th>drama1</th>\n",
       "      <th>drama2</th>\n",
       "      <th>art1</th>\n",
       "      <th>art2</th>\n",
       "    </tr>\n",
       "  </thead>\n",
       "  <tbody>\n",
       "    <tr>\n",
       "      <th>u0</th>\n",
       "      <td>1</td>\n",
       "      <td>2</td>\n",
       "      <td>8</td>\n",
       "      <td>9</td>\n",
       "      <td>3</td>\n",
       "      <td>3</td>\n",
       "    </tr>\n",
       "    <tr>\n",
       "      <th>u1</th>\n",
       "      <td>2</td>\n",
       "      <td>1</td>\n",
       "      <td>9</td>\n",
       "      <td>8</td>\n",
       "      <td>4</td>\n",
       "      <td>2</td>\n",
       "    </tr>\n",
       "    <tr>\n",
       "      <th>u2</th>\n",
       "      <td>2</td>\n",
       "      <td>2</td>\n",
       "      <td>6</td>\n",
       "      <td>8</td>\n",
       "      <td>2</td>\n",
       "      <td>3</td>\n",
       "    </tr>\n",
       "    <tr>\n",
       "      <th>u3</th>\n",
       "      <td>9</td>\n",
       "      <td>7</td>\n",
       "      <td>2</td>\n",
       "      <td>3</td>\n",
       "      <td>1</td>\n",
       "      <td>1</td>\n",
       "    </tr>\n",
       "    <tr>\n",
       "      <th>u4</th>\n",
       "      <td>1</td>\n",
       "      <td>1</td>\n",
       "      <td>1</td>\n",
       "      <td>2</td>\n",
       "      <td>8</td>\n",
       "      <td>7</td>\n",
       "    </tr>\n",
       "    <tr>\n",
       "      <th>u5</th>\n",
       "      <td>2</td>\n",
       "      <td>2</td>\n",
       "      <td>3</td>\n",
       "      <td>2</td>\n",
       "      <td>8</td>\n",
       "      <td>8</td>\n",
       "    </tr>\n",
       "    <tr>\n",
       "      <th>u6</th>\n",
       "      <td>7</td>\n",
       "      <td>9</td>\n",
       "      <td>2</td>\n",
       "      <td>2</td>\n",
       "      <td>2</td>\n",
       "      <td>3</td>\n",
       "    </tr>\n",
       "    <tr>\n",
       "      <th>u7</th>\n",
       "      <td>9</td>\n",
       "      <td>8</td>\n",
       "      <td>2</td>\n",
       "      <td>3</td>\n",
       "      <td>1</td>\n",
       "      <td>3</td>\n",
       "    </tr>\n",
       "  </tbody>\n",
       "</table>\n",
       "</div>"
      ],
      "text/plain": [
       "    horror1  horror2  drama1  drama2  art1  art2\n",
       "u0        1        2       8       9     3     3\n",
       "u1        2        1       9       8     4     2\n",
       "u2        2        2       6       8     2     3\n",
       "u3        9        7       2       3     1     1\n",
       "u4        1        1       1       2     8     7\n",
       "u5        2        2       3       2     8     8\n",
       "u6        7        9       2       2     2     3\n",
       "u7        9        8       2       3     1     3"
      ]
     },
     "execution_count": 3,
     "metadata": {},
     "output_type": "execute_result"
    }
   ],
   "source": [
    "ratings"
   ]
  },
  {
   "cell_type": "markdown",
   "metadata": {},
   "source": [
    "It is possible some users are more critical in rating movies than others and so we normalize/center the data."
   ]
  },
  {
   "cell_type": "code",
   "execution_count": 4,
   "metadata": {},
   "outputs": [
    {
     "data": {
      "text/plain": [
       "{'u0': 4.333333333333333,\n",
       " 'u1': 4.333333333333333,\n",
       " 'u2': 3.8333333333333335,\n",
       " 'u3': 3.8333333333333335,\n",
       " 'u4': 3.3333333333333335,\n",
       " 'u5': 4.166666666666667,\n",
       " 'u6': 4.166666666666667,\n",
       " 'u7': 4.333333333333333}"
      ]
     },
     "execution_count": 4,
     "metadata": {},
     "output_type": "execute_result"
    }
   ],
   "source": [
    "mean_ratings = ratings.mean(axis=1).to_dict()\n",
    "mean_ratings"
   ]
  },
  {
   "cell_type": "code",
   "execution_count": 5,
   "metadata": {},
   "outputs": [
    {
     "data": {
      "text/html": [
       "<div>\n",
       "<style scoped>\n",
       "    .dataframe tbody tr th:only-of-type {\n",
       "        vertical-align: middle;\n",
       "    }\n",
       "\n",
       "    .dataframe tbody tr th {\n",
       "        vertical-align: top;\n",
       "    }\n",
       "\n",
       "    .dataframe thead th {\n",
       "        text-align: right;\n",
       "    }\n",
       "</style>\n",
       "<table border=\"1\" class=\"dataframe\">\n",
       "  <thead>\n",
       "    <tr style=\"text-align: right;\">\n",
       "      <th></th>\n",
       "      <th>horror1</th>\n",
       "      <th>horror2</th>\n",
       "      <th>drama1</th>\n",
       "      <th>drama2</th>\n",
       "      <th>art1</th>\n",
       "      <th>art2</th>\n",
       "    </tr>\n",
       "  </thead>\n",
       "  <tbody>\n",
       "    <tr>\n",
       "      <th>u0</th>\n",
       "      <td>-3.33</td>\n",
       "      <td>-2.33</td>\n",
       "      <td>3.67</td>\n",
       "      <td>4.67</td>\n",
       "      <td>-1.33</td>\n",
       "      <td>-1.33</td>\n",
       "    </tr>\n",
       "    <tr>\n",
       "      <th>u1</th>\n",
       "      <td>-2.33</td>\n",
       "      <td>-3.33</td>\n",
       "      <td>4.67</td>\n",
       "      <td>3.67</td>\n",
       "      <td>-0.33</td>\n",
       "      <td>-2.33</td>\n",
       "    </tr>\n",
       "    <tr>\n",
       "      <th>u2</th>\n",
       "      <td>-1.83</td>\n",
       "      <td>-1.83</td>\n",
       "      <td>2.17</td>\n",
       "      <td>4.17</td>\n",
       "      <td>-1.83</td>\n",
       "      <td>-0.83</td>\n",
       "    </tr>\n",
       "    <tr>\n",
       "      <th>u3</th>\n",
       "      <td>5.17</td>\n",
       "      <td>3.17</td>\n",
       "      <td>-1.83</td>\n",
       "      <td>-0.83</td>\n",
       "      <td>-2.83</td>\n",
       "      <td>-2.83</td>\n",
       "    </tr>\n",
       "    <tr>\n",
       "      <th>u4</th>\n",
       "      <td>-2.33</td>\n",
       "      <td>-2.33</td>\n",
       "      <td>-2.33</td>\n",
       "      <td>-1.33</td>\n",
       "      <td>4.67</td>\n",
       "      <td>3.67</td>\n",
       "    </tr>\n",
       "    <tr>\n",
       "      <th>u5</th>\n",
       "      <td>-2.17</td>\n",
       "      <td>-2.17</td>\n",
       "      <td>-1.17</td>\n",
       "      <td>-2.17</td>\n",
       "      <td>3.83</td>\n",
       "      <td>3.83</td>\n",
       "    </tr>\n",
       "    <tr>\n",
       "      <th>u6</th>\n",
       "      <td>2.83</td>\n",
       "      <td>4.83</td>\n",
       "      <td>-2.17</td>\n",
       "      <td>-2.17</td>\n",
       "      <td>-2.17</td>\n",
       "      <td>-1.17</td>\n",
       "    </tr>\n",
       "    <tr>\n",
       "      <th>u7</th>\n",
       "      <td>4.67</td>\n",
       "      <td>3.67</td>\n",
       "      <td>-2.33</td>\n",
       "      <td>-1.33</td>\n",
       "      <td>-3.33</td>\n",
       "      <td>-1.33</td>\n",
       "    </tr>\n",
       "  </tbody>\n",
       "</table>\n",
       "</div>"
      ],
      "text/plain": [
       "    horror1  horror2  drama1  drama2  art1  art2\n",
       "u0    -3.33    -2.33    3.67    4.67 -1.33 -1.33\n",
       "u1    -2.33    -3.33    4.67    3.67 -0.33 -2.33\n",
       "u2    -1.83    -1.83    2.17    4.17 -1.83 -0.83\n",
       "u3     5.17     3.17   -1.83   -0.83 -2.83 -2.83\n",
       "u4    -2.33    -2.33   -2.33   -1.33  4.67  3.67\n",
       "u5    -2.17    -2.17   -1.17   -2.17  3.83  3.83\n",
       "u6     2.83     4.83   -2.17   -2.17 -2.17 -1.17\n",
       "u7     4.67     3.67   -2.33   -1.33 -3.33 -1.33"
      ]
     },
     "execution_count": 5,
     "metadata": {},
     "output_type": "execute_result"
    }
   ],
   "source": [
    "df = pd.DataFrame(ratings.values - ratings.mean(axis=1).values.reshape(-1,1)).round(2)\n",
    "\n",
    "df.columns = [\"horror1\",\"horror2\",\"drama1\",\"drama2\",\"art1\",\"art2\"]\n",
    "df.index = [\"u0\",\"u1\",\"u2\",\"u3\",\"u4\",\"u5\",\"u6\",\"u7\"]\n",
    "\n",
    "df"
   ]
  },
  {
   "cell_type": "code",
   "execution_count": 6,
   "metadata": {},
   "outputs": [
    {
     "data": {
      "text/html": [
       "<div>\n",
       "<style scoped>\n",
       "    .dataframe tbody tr th:only-of-type {\n",
       "        vertical-align: middle;\n",
       "    }\n",
       "\n",
       "    .dataframe tbody tr th {\n",
       "        vertical-align: top;\n",
       "    }\n",
       "\n",
       "    .dataframe thead th {\n",
       "        text-align: right;\n",
       "    }\n",
       "</style>\n",
       "<table border=\"1\" class=\"dataframe\">\n",
       "  <thead>\n",
       "    <tr style=\"text-align: right;\">\n",
       "      <th></th>\n",
       "      <th>horror1</th>\n",
       "      <th>horror2</th>\n",
       "      <th>drama1</th>\n",
       "      <th>drama2</th>\n",
       "      <th>art1</th>\n",
       "      <th>art2</th>\n",
       "    </tr>\n",
       "  </thead>\n",
       "  <tbody>\n",
       "    <tr>\n",
       "      <th>u0</th>\n",
       "      <td>-3.33</td>\n",
       "      <td>-2.33</td>\n",
       "      <td>3.67</td>\n",
       "      <td>4.67</td>\n",
       "      <td>-1.33</td>\n",
       "      <td>-1.33</td>\n",
       "    </tr>\n",
       "    <tr>\n",
       "      <th>u1</th>\n",
       "      <td>-2.33</td>\n",
       "      <td>-3.33</td>\n",
       "      <td>4.67</td>\n",
       "      <td>3.67</td>\n",
       "      <td>-0.33</td>\n",
       "      <td>-2.33</td>\n",
       "    </tr>\n",
       "    <tr>\n",
       "      <th>u2</th>\n",
       "      <td>-1.83</td>\n",
       "      <td>-1.83</td>\n",
       "      <td>2.17</td>\n",
       "      <td>4.17</td>\n",
       "      <td>-1.83</td>\n",
       "      <td>-0.83</td>\n",
       "    </tr>\n",
       "    <tr>\n",
       "      <th>u3</th>\n",
       "      <td>5.17</td>\n",
       "      <td>3.17</td>\n",
       "      <td>-1.83</td>\n",
       "      <td>-0.83</td>\n",
       "      <td>-2.83</td>\n",
       "      <td>-2.83</td>\n",
       "    </tr>\n",
       "    <tr>\n",
       "      <th>u4</th>\n",
       "      <td>-2.33</td>\n",
       "      <td>-2.33</td>\n",
       "      <td>-2.33</td>\n",
       "      <td>-1.33</td>\n",
       "      <td>4.67</td>\n",
       "      <td>3.67</td>\n",
       "    </tr>\n",
       "    <tr>\n",
       "      <th>u5</th>\n",
       "      <td>-2.17</td>\n",
       "      <td>-2.17</td>\n",
       "      <td>NaN</td>\n",
       "      <td>-2.17</td>\n",
       "      <td>3.83</td>\n",
       "      <td>3.83</td>\n",
       "    </tr>\n",
       "    <tr>\n",
       "      <th>u6</th>\n",
       "      <td>2.83</td>\n",
       "      <td>4.83</td>\n",
       "      <td>-2.17</td>\n",
       "      <td>-2.17</td>\n",
       "      <td>-2.17</td>\n",
       "      <td>-1.17</td>\n",
       "    </tr>\n",
       "    <tr>\n",
       "      <th>u7</th>\n",
       "      <td>4.67</td>\n",
       "      <td>3.67</td>\n",
       "      <td>-2.33</td>\n",
       "      <td>-1.33</td>\n",
       "      <td>-3.33</td>\n",
       "      <td>-1.33</td>\n",
       "    </tr>\n",
       "  </tbody>\n",
       "</table>\n",
       "</div>"
      ],
      "text/plain": [
       "    horror1  horror2  drama1  drama2  art1  art2\n",
       "u0    -3.33    -2.33    3.67    4.67 -1.33 -1.33\n",
       "u1    -2.33    -3.33    4.67    3.67 -0.33 -2.33\n",
       "u2    -1.83    -1.83    2.17    4.17 -1.83 -0.83\n",
       "u3     5.17     3.17   -1.83   -0.83 -2.83 -2.83\n",
       "u4    -2.33    -2.33   -2.33   -1.33  4.67  3.67\n",
       "u5    -2.17    -2.17     NaN   -2.17  3.83  3.83\n",
       "u6     2.83     4.83   -2.17   -2.17 -2.17 -1.17\n",
       "u7     4.67     3.67   -2.33   -1.33 -3.33 -1.33"
      ]
     },
     "execution_count": 6,
     "metadata": {},
     "output_type": "execute_result"
    }
   ],
   "source": [
    "#making predictions for (userid, movieid) pair\n",
    "userid = 'u5'\n",
    "movieid = 'drama1' \n",
    "\n",
    "df1 = df.copy()\n",
    "df1.loc[userid, movieid]=None\n",
    "df1"
   ]
  },
  {
   "cell_type": "code",
   "execution_count": 7,
   "metadata": {},
   "outputs": [
    {
     "data": {
      "text/html": [
       "<div>\n",
       "<style scoped>\n",
       "    .dataframe tbody tr th:only-of-type {\n",
       "        vertical-align: middle;\n",
       "    }\n",
       "\n",
       "    .dataframe tbody tr th {\n",
       "        vertical-align: top;\n",
       "    }\n",
       "\n",
       "    .dataframe thead th {\n",
       "        text-align: right;\n",
       "    }\n",
       "</style>\n",
       "<table border=\"1\" class=\"dataframe\">\n",
       "  <thead>\n",
       "    <tr style=\"text-align: right;\">\n",
       "      <th></th>\n",
       "      <th>horror1</th>\n",
       "      <th>horror2</th>\n",
       "      <th>drama2</th>\n",
       "      <th>art1</th>\n",
       "      <th>art2</th>\n",
       "    </tr>\n",
       "  </thead>\n",
       "  <tbody>\n",
       "    <tr>\n",
       "      <th>u0</th>\n",
       "      <td>-3.33</td>\n",
       "      <td>-2.33</td>\n",
       "      <td>4.67</td>\n",
       "      <td>-1.33</td>\n",
       "      <td>-1.33</td>\n",
       "    </tr>\n",
       "    <tr>\n",
       "      <th>u1</th>\n",
       "      <td>-2.33</td>\n",
       "      <td>-3.33</td>\n",
       "      <td>3.67</td>\n",
       "      <td>-0.33</td>\n",
       "      <td>-2.33</td>\n",
       "    </tr>\n",
       "    <tr>\n",
       "      <th>u2</th>\n",
       "      <td>-1.83</td>\n",
       "      <td>-1.83</td>\n",
       "      <td>4.17</td>\n",
       "      <td>-1.83</td>\n",
       "      <td>-0.83</td>\n",
       "    </tr>\n",
       "    <tr>\n",
       "      <th>u3</th>\n",
       "      <td>5.17</td>\n",
       "      <td>3.17</td>\n",
       "      <td>-0.83</td>\n",
       "      <td>-2.83</td>\n",
       "      <td>-2.83</td>\n",
       "    </tr>\n",
       "    <tr>\n",
       "      <th>u4</th>\n",
       "      <td>-2.33</td>\n",
       "      <td>-2.33</td>\n",
       "      <td>-1.33</td>\n",
       "      <td>4.67</td>\n",
       "      <td>3.67</td>\n",
       "    </tr>\n",
       "    <tr>\n",
       "      <th>u5</th>\n",
       "      <td>-2.17</td>\n",
       "      <td>-2.17</td>\n",
       "      <td>-2.17</td>\n",
       "      <td>3.83</td>\n",
       "      <td>3.83</td>\n",
       "    </tr>\n",
       "    <tr>\n",
       "      <th>u6</th>\n",
       "      <td>2.83</td>\n",
       "      <td>4.83</td>\n",
       "      <td>-2.17</td>\n",
       "      <td>-2.17</td>\n",
       "      <td>-1.17</td>\n",
       "    </tr>\n",
       "    <tr>\n",
       "      <th>u7</th>\n",
       "      <td>4.67</td>\n",
       "      <td>3.67</td>\n",
       "      <td>-1.33</td>\n",
       "      <td>-3.33</td>\n",
       "      <td>-1.33</td>\n",
       "    </tr>\n",
       "  </tbody>\n",
       "</table>\n",
       "</div>"
      ],
      "text/plain": [
       "    horror1  horror2  drama2  art1  art2\n",
       "u0    -3.33    -2.33    4.67 -1.33 -1.33\n",
       "u1    -2.33    -3.33    3.67 -0.33 -2.33\n",
       "u2    -1.83    -1.83    4.17 -1.83 -0.83\n",
       "u3     5.17     3.17   -0.83 -2.83 -2.83\n",
       "u4    -2.33    -2.33   -1.33  4.67  3.67\n",
       "u5    -2.17    -2.17   -2.17  3.83  3.83\n",
       "u6     2.83     4.83   -2.17 -2.17 -1.17\n",
       "u7     4.67     3.67   -1.33 -3.33 -1.33"
      ]
     },
     "execution_count": 7,
     "metadata": {},
     "output_type": "execute_result"
    }
   ],
   "source": [
    "df1 = df1.dropna(axis='columns')\n",
    "df1"
   ]
  },
  {
   "cell_type": "code",
   "execution_count": 8,
   "metadata": {},
   "outputs": [],
   "source": [
    "def find_cosine_similarity(v1,v2):\n",
    "    return np.dot(v1,v2) / (np.linalg.norm(v1) * np.linalg.norm(v2))"
   ]
  },
  {
   "cell_type": "code",
   "execution_count": 9,
   "metadata": {},
   "outputs": [],
   "source": [
    "def find_cosine_similarity_dict(userid, df1):\n",
    "\n",
    "    v1 = df1.loc[userid].values\n",
    "    csim = {}\n",
    "\n",
    "    for user in df1.index:\n",
    "\n",
    "        if (user!=userid):\n",
    "            v2 = df1.loc[user].values\n",
    "            csim[user] = find_cosine_similarity(v1,v2)\n",
    "            \n",
    "    return csim"
   ]
  },
  {
   "cell_type": "code",
   "execution_count": 10,
   "metadata": {},
   "outputs": [
    {
     "data": {
      "text/plain": [
       "{'u0': -0.18846848573643268,\n",
       " 'u1': -0.14937219947060032,\n",
       " 'u2': -0.3230407133410321,\n",
       " 'u3': -0.7876091452135945,\n",
       " 'u4': 0.9848779179101157,\n",
       " 'u6': -0.5773762616126623,\n",
       " 'u7': -0.7098377347000132}"
      ]
     },
     "execution_count": 10,
     "metadata": {},
     "output_type": "execute_result"
    }
   ],
   "source": [
    "csim = find_cosine_similarity_dict(userid, df1)\n",
    "csim"
   ]
  },
  {
   "cell_type": "code",
   "execution_count": 11,
   "metadata": {},
   "outputs": [],
   "source": [
    "def make_prediction(df, userid, movieid, csim):\n",
    "\n",
    "    num=0\n",
    "    den=0\n",
    "\n",
    "    for user in df.index:\n",
    "\n",
    "        if (user!=userid):\n",
    "            r = df.loc[user,movieid]\n",
    "            c_similarity = csim[user]\n",
    "\n",
    "            num += r * c_similarity\n",
    "            den += c_similarity\n",
    "\n",
    "    prediction = mean_ratings[userid] + num/den\n",
    "    return prediction"
   ]
  },
  {
   "cell_type": "code",
   "execution_count": 12,
   "metadata": {},
   "outputs": [
    {
     "data": {
      "text/plain": [
       "4.187718588714821"
      ]
     },
     "execution_count": 12,
     "metadata": {},
     "output_type": "execute_result"
    }
   ],
   "source": [
    "prediction = make_prediction(df, userid, movieid, csim)\n",
    "prediction"
   ]
  },
  {
   "cell_type": "code",
   "execution_count": 13,
   "metadata": {},
   "outputs": [
    {
     "name": "stdout",
     "output_type": "stream",
     "text": [
      "ACTUAL RATING:  3\n",
      "PREDICTED RATING:  4.19\n"
     ]
    }
   ],
   "source": [
    "print('ACTUAL RATING: ', ratings.loc[userid, movieid])\n",
    "print('PREDICTED RATING: ', prediction.round(2))"
   ]
  },
  {
   "cell_type": "markdown",
   "metadata": {},
   "source": [
    "**Let's calculate accuracy of this method by running the method for a large number of examples**"
   ]
  },
  {
   "cell_type": "code",
   "execution_count": 14,
   "metadata": {},
   "outputs": [],
   "source": [
    "def iteration(userid, movieid, df):\n",
    "    \n",
    "    df1 = df.copy()\n",
    "    df1.loc[userid, movieid]=None\n",
    "    df1 = df1.dropna(axis='columns')\n",
    "\n",
    "    csim = find_cosine_similarity_dict(userid, df1)\n",
    "\n",
    "    prediction = make_prediction(df, userid, movieid, csim)\n",
    "    actual = ratings.loc[userid, movieid]\n",
    "    error = abs(actual-prediction)\n",
    "    \n",
    "    return error"
   ]
  },
  {
   "cell_type": "code",
   "execution_count": 15,
   "metadata": {},
   "outputs": [
    {
     "name": "stderr",
     "output_type": "stream",
     "text": [
      "100%|█████████████████████████████████████████████████████████████████████████████| 1000/1000 [00:03<00:00, 275.38it/s]\n"
     ]
    }
   ],
   "source": [
    "N_ITERATIONS = 1000\n",
    "\n",
    "errors=[]\n",
    "\n",
    "for _ in tqdm(range(N_ITERATIONS)):\n",
    "    u = np.random.choice(users)\n",
    "    m = np.random.choice(movies)\n",
    "\n",
    "    error = iteration(u, m, df)\n",
    "    errors.append(error)\n",
    "    \n",
    "errors = np.array(errors)\n",
    "mae = np.mean(errors).round(2)\n",
    "rmse = np.sqrt(np.mean(errors**2)).round(2)"
   ]
  },
  {
   "cell_type": "code",
   "execution_count": 16,
   "metadata": {},
   "outputs": [
    {
     "name": "stdout",
     "output_type": "stream",
     "text": [
      "Mean Absolute Error (MAE):  34.98\n",
      "Root Mean Square Error (RMSE):  82.42\n"
     ]
    }
   ],
   "source": [
    "print('Mean Absolute Error (MAE): ', mae)\n",
    "print('Root Mean Square Error (RMSE): ', rmse)"
   ]
  },
  {
   "cell_type": "markdown",
   "metadata": {},
   "source": [
    "**Similarly can be done for item-item collaborative filtering**"
   ]
  }
 ],
 "metadata": {
  "kernelspec": {
   "display_name": "Python 3",
   "language": "python",
   "name": "python3"
  },
  "language_info": {
   "codemirror_mode": {
    "name": "ipython",
    "version": 3
   },
   "file_extension": ".py",
   "mimetype": "text/x-python",
   "name": "python",
   "nbconvert_exporter": "python",
   "pygments_lexer": "ipython3",
   "version": "3.8.5"
  }
 },
 "nbformat": 4,
 "nbformat_minor": 4
}
