{
 "cells": [
  {
   "cell_type": "code",
   "execution_count": 1,
   "metadata": {},
   "outputs": [],
   "source": [
    "import numpy as np\n",
    "import pandas as pd\n",
    "\n",
    "from sklearn.model_selection import train_test_split\n",
    "from sklearn.linear_model import LogisticRegression\n",
    "from sklearn.metrics import accuracy_score\n",
    "\n",
    "import matplotlib.pyplot as plt"
   ]
  },
  {
   "cell_type": "code",
   "execution_count": 2,
   "metadata": {},
   "outputs": [
    {
     "data": {
      "text/html": [
       "<div>\n",
       "<style scoped>\n",
       "    .dataframe tbody tr th:only-of-type {\n",
       "        vertical-align: middle;\n",
       "    }\n",
       "\n",
       "    .dataframe tbody tr th {\n",
       "        vertical-align: top;\n",
       "    }\n",
       "\n",
       "    .dataframe thead th {\n",
       "        text-align: right;\n",
       "    }\n",
       "</style>\n",
       "<table border=\"1\" class=\"dataframe\">\n",
       "  <thead>\n",
       "    <tr style=\"text-align: right;\">\n",
       "      <th></th>\n",
       "      <th>X</th>\n",
       "      <th>Y</th>\n",
       "    </tr>\n",
       "  </thead>\n",
       "  <tbody>\n",
       "    <tr>\n",
       "      <th>0</th>\n",
       "      <td>1.764052</td>\n",
       "      <td>0.0</td>\n",
       "    </tr>\n",
       "    <tr>\n",
       "      <th>1</th>\n",
       "      <td>0.400157</td>\n",
       "      <td>0.0</td>\n",
       "    </tr>\n",
       "    <tr>\n",
       "      <th>2</th>\n",
       "      <td>0.978738</td>\n",
       "      <td>0.0</td>\n",
       "    </tr>\n",
       "    <tr>\n",
       "      <th>3</th>\n",
       "      <td>2.240893</td>\n",
       "      <td>0.0</td>\n",
       "    </tr>\n",
       "    <tr>\n",
       "      <th>4</th>\n",
       "      <td>1.867558</td>\n",
       "      <td>0.0</td>\n",
       "    </tr>\n",
       "  </tbody>\n",
       "</table>\n",
       "</div>"
      ],
      "text/plain": [
       "          X    Y\n",
       "0  1.764052  0.0\n",
       "1  0.400157  0.0\n",
       "2  0.978738  0.0\n",
       "3  2.240893  0.0\n",
       "4  1.867558  0.0"
      ]
     },
     "execution_count": 2,
     "metadata": {},
     "output_type": "execute_result"
    }
   ],
   "source": [
    "np.random.seed(0)\n",
    "\n",
    "X=np.random.normal(0,1,100)\n",
    "Y=np.array([0]*80+[1]*20)\n",
    "\n",
    "df=pd.DataFrame(np.vstack((X,Y)).transpose(),columns=['X','Y'])\n",
    "df.head()"
   ]
  },
  {
   "cell_type": "code",
   "execution_count": 3,
   "metadata": {},
   "outputs": [
    {
     "data": {
      "text/plain": [
       "0.0    80\n",
       "1.0    20\n",
       "Name: Y, dtype: int64"
      ]
     },
     "execution_count": 3,
     "metadata": {},
     "output_type": "execute_result"
    }
   ],
   "source": [
    "df.Y.value_counts()"
   ]
  },
  {
   "cell_type": "code",
   "execution_count": 4,
   "metadata": {},
   "outputs": [
    {
     "data": {
      "text/plain": [
       "0.8"
      ]
     },
     "execution_count": 4,
     "metadata": {},
     "output_type": "execute_result"
    }
   ],
   "source": [
    "X=df[['X']]\n",
    "y=df['Y']\n",
    "\n",
    "X_train, X_test, y_train, y_test = train_test_split(X, y, test_size=0.2, random_state=0)\n",
    "\n",
    "clf=LogisticRegression(random_state=0)\n",
    "clf.fit(X_train, y_train)\n",
    "y_pred=clf.predict(X_test)\n",
    "accuracy_score(y_pred, y_test)"
   ]
  },
  {
   "cell_type": "code",
   "execution_count": 5,
   "metadata": {},
   "outputs": [
    {
     "data": {
      "text/plain": [
       "(0.35156050332996985, -1.4336391384747513)"
      ]
     },
     "execution_count": 5,
     "metadata": {},
     "output_type": "execute_result"
    }
   ],
   "source": [
    "clf.coef_[0][0], clf.intercept_[0]"
   ]
  },
  {
   "cell_type": "code",
   "execution_count": 6,
   "metadata": {},
   "outputs": [
    {
     "data": {
      "text/plain": [
       "0.5"
      ]
     },
     "execution_count": 6,
     "metadata": {},
     "output_type": "execute_result"
    }
   ],
   "source": [
    "def logistic(X):\n",
    "    return 1/(1+np.exp(-X))\n",
    "\n",
    "logistic(0)"
   ]
  },
  {
   "cell_type": "code",
   "execution_count": 7,
   "metadata": {},
   "outputs": [],
   "source": [
    "np.random.seed(0)\n",
    "\n",
    "X=np.random.normal(0,1,100)\n",
    "Y=np.array([0]*80+[1]*20)"
   ]
  },
  {
   "cell_type": "code",
   "execution_count": 8,
   "metadata": {},
   "outputs": [
    {
     "data": {
      "text/plain": [
       "(0.4593728185125227, -1.4764051612662148, 48.40710021094712, 103)"
      ]
     },
     "execution_count": 8,
     "metadata": {},
     "output_type": "execute_result"
    }
   ],
   "source": [
    "def gradient(X,Y,w,b):\n",
    "    y_cap=w*X+b\n",
    "    dw=sum((logistic(y_cap)-Y)*X)\n",
    "    db=sum((logistic(y_cap)-Y))\n",
    "    \n",
    "    return dw, db\n",
    "\n",
    "def get_loss(X,Y,w,b):\n",
    "    a=logistic(w*X+b)\n",
    "    return -sum(Y*np.log(a)+(1-Y)*np.log(1-a))\n",
    "\n",
    "def logistic_regression(X,Y,w_init, b_init, alpha, beta):\n",
    "    w=w_init\n",
    "    b=b_init\n",
    "    \n",
    "    epsilon=10E-5\n",
    "    W=[]\n",
    "    B=[]\n",
    "    COSTS=[]\n",
    "    \n",
    "    dw=1\n",
    "    db=1\n",
    "    \n",
    "    n_iter=0\n",
    "    while (abs(dw)>epsilon and abs(db)>epsilon):\n",
    "        dw, db = gradient(X,Y,w,b)\n",
    "        \n",
    "        w=w-dw*alpha\n",
    "        b=b-db*alpha\n",
    "        \n",
    "        cost=get_loss(X,Y,w,b)\n",
    "        \n",
    "        W.append(w)\n",
    "        B.append(b)\n",
    "        COSTS.append(cost)\n",
    "        \n",
    "        n_iter+=1\n",
    "    return W, B, COSTS, n_iter \n",
    "\n",
    "w_init=5\n",
    "b_init=10\n",
    "alpha=10E-3\n",
    "beta=10E-3\n",
    "W, B, COSTS, n_iter=logistic_regression(X,y,w_init, b_init, alpha, beta)\n",
    "\n",
    "W[-1], B[-1], COSTS[-1], n_iter"
   ]
  },
  {
   "cell_type": "code",
   "execution_count": 9,
   "metadata": {},
   "outputs": [
    {
     "data": {
      "image/png": "[encoded data removed]",
      "text/plain": [
       "<Figure size 1080x360 with 3 Axes>"
      ]
     },
     "metadata": {
      "needs_background": "light"
     },
     "output_type": "display_data"
    }
   ],
   "source": [
    "fig=plt.figure(figsize=(15,5))\n",
    "\n",
    "plt.subplot(131)\n",
    "plt.title('W')\n",
    "plt.plot(W,c='k')\n",
    "\n",
    "plt.subplot(132)\n",
    "plt.title('B')\n",
    "plt.plot(B,c='k')\n",
    "\n",
    "plt.subplot(133)\n",
    "plt.title('COSTS')\n",
    "plt.plot(COSTS,c='k')\n",
    "\n",
    "plt.show()"
   ]
  },
  {
   "cell_type": "code",
   "execution_count": null,
   "metadata": {},
   "outputs": [],
   "source": []
  }
 ],
 "metadata": {
  "kernelspec": {
   "display_name": "Python 3",
   "language": "python",
   "name": "python3"
  },
  "language_info": {
   "codemirror_mode": {
    "name": "ipython",
    "version": 3
   },
   "file_extension": ".py",
   "mimetype": "text/x-python",
   "name": "python",
   "nbconvert_exporter": "python",
   "pygments_lexer": "ipython3",
   "version": "3.7.6"
  }
 },
 "nbformat": 4,
 "nbformat_minor": 4
}
